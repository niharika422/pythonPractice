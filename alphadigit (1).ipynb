{
 "cells": [
  {
   "cell_type": "code",
   "execution_count": 1,
   "id": "ff500fe5-f0f7-4236-b4f2-9ebed51666f1",
   "metadata": {},
   "outputs": [
    {
     "name": "stdin",
     "output_type": "stream",
     "text": [
      " century100\n"
     ]
    },
    {
     "name": "stdout",
     "output_type": "stream",
     "text": [
      "Digit: 3\n",
      "Alphabet: 7\n"
     ]
    }
   ],
   "source": [
    "x=input()\n",
    "digit=0\n",
    "alpha=0\n",
    "for i in x:\n",
    "    if i.isdigit():\n",
    "        digit+=1\n",
    "    elif i.isalpha():\n",
    "        alpha+=1\n",
    "print(\"Digit:\",digit)\n",
    "print(\"Alphabet:\",alpha)"
   ]
  },
  {
   "cell_type": "code",
   "execution_count": null,
   "id": "41b027d7-f198-4d2b-8dc6-fa69c59c737b",
   "metadata": {},
   "outputs": [],
   "source": []
  }
 ],
 "metadata": {
  "kernelspec": {
   "display_name": "Python 3 (ipykernel)",
   "language": "python",
   "name": "python3"
  },
  "language_info": {
   "codemirror_mode": {
    "name": "ipython",
    "version": 3
   },
   "file_extension": ".py",
   "mimetype": "text/x-python",
   "name": "python",
   "nbconvert_exporter": "python",
   "pygments_lexer": "ipython3",
   "version": "3.12.4"
  }
 },
 "nbformat": 4,
 "nbformat_minor": 5
}
