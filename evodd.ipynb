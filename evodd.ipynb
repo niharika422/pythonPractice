{
 "cells": [
  {
   "cell_type": "code",
   "execution_count": 37,
   "id": "ac565412-1e91-467d-a7eb-41658d633976",
   "metadata": {},
   "outputs": [
    {
     "name": "stdin",
     "output_type": "stream",
     "text": [
      " -2\n"
     ]
    },
    {
     "name": "stdout",
     "output_type": "stream",
     "text": [
      "negative\n"
     ]
    }
   ],
   "source": [
    "n=int(input())\n",
    "if n%2==0:\n",
    "    if n>0:\n",
    "        print(n,\"positive and even\")\n",
    "    elif n==0:\n",
    "        print(\"Zero\")\n",
    "    else:\n",
    "        print(\"negative\")\n",
    "elif n%2!=0 and n<0:\n",
    "    print(n,\"negative and odd\")\n",
    "\n"
   ]
  },
  {
   "cell_type": "code",
   "execution_count": null,
   "id": "ed16be42-da3d-4695-a94c-12811c257c1b",
   "metadata": {},
   "outputs": [],
   "source": []
  }
 ],
 "metadata": {
  "kernelspec": {
   "display_name": "Python 3 (ipykernel)",
   "language": "python",
   "name": "python3"
  },
  "language_info": {
   "codemirror_mode": {
    "name": "ipython",
    "version": 3
   },
   "file_extension": ".py",
   "mimetype": "text/x-python",
   "name": "python",
   "nbconvert_exporter": "python",
   "pygments_lexer": "ipython3",
   "version": "3.12.4"
  }
 },
 "nbformat": 4,
 "nbformat_minor": 5
}
