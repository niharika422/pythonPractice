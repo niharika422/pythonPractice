{
 "cells": [
  {
   "cell_type": "code",
   "execution_count": 3,
   "id": "a215ef3c-b109-42f3-a64d-e95ca873a1f9",
   "metadata": {},
   "outputs": [
    {
     "name": "stdin",
     "output_type": "stream",
     "text": [
      "enter name:  nn\n"
     ]
    },
    {
     "name": "stdout",
     "output_type": "stream",
     "text": [
      "\n"
     ]
    }
   ],
   "source": [
    "first=input(\"enter name: \")\n",
    "print()\n"
   ]
  },
  {
   "cell_type": "code",
   "execution_count": 5,
   "id": "d6be1864-de9f-4dea-bfd6-f90e5bfa90c3",
   "metadata": {},
   "outputs": [
    {
     "name": "stdout",
     "output_type": "stream",
     "text": [
      "hello\n"
     ]
    }
   ],
   "source": [
    "print(\"hello\")\n"
   ]
  },
  {
   "cell_type": "code",
   "execution_count": 15,
   "id": "c2a01af4-bc0a-48f1-ad54-bfb94389f0e8",
   "metadata": {},
   "outputs": [
    {
     "name": "stdout",
     "output_type": "stream",
     "text": [
      "a= 20\n",
      "b= 10\n"
     ]
    }
   ],
   "source": [
    "#swaping values without using a third variable\n",
    "a=10\n",
    "b=20\n",
    "a,b=b,a\n",
    "print('a=',a)\n",
    "print('b=',b)\n"
   ]
  },
  {
   "cell_type": "code",
   "execution_count": 19,
   "id": "74ab613a-9c75-48fe-a047-5e30f204279e",
   "metadata": {},
   "outputs": [
    {
     "data": {
      "text/plain": [
       "193.1"
      ]
     },
     "execution_count": 19,
     "metadata": {},
     "output_type": "execute_result"
    }
   ],
   "source": [
    "celsius=89.5\n",
    "far=celsius*9/5+32\n",
    "far"
   ]
  },
  {
   "cell_type": "code",
   "execution_count": 23,
   "id": "07ae7476-2a2a-49a4-a8d6-c14663ddc1b4",
   "metadata": {},
   "outputs": [
    {
     "name": "stdout",
     "output_type": "stream",
     "text": [
      "7326.0\n"
     ]
    }
   ],
   "source": [
    "x=5*99*(3+0.7)*8/2\n",
    "print(x)\n"
   ]
  },
  {
   "cell_type": "code",
   "execution_count": 25,
   "id": "544233c3-f6f1-4dfe-8c42-cfd208abd102",
   "metadata": {},
   "outputs": [
    {
     "name": "stdout",
     "output_type": "stream",
     "text": [
      "186.20000000000002\n"
     ]
    }
   ],
   "source": [
    "y=7+7*(8*8*2/5)\n",
    "print(y)"
   ]
  },
  {
   "cell_type": "code",
   "execution_count": 27,
   "id": "8b23b08c-9427-44a9-8b2b-fc05d0f0f6e2",
   "metadata": {},
   "outputs": [
    {
     "name": "stdout",
     "output_type": "stream",
     "text": [
      "100.0\n"
     ]
    }
   ],
   "source": [
    "z=(7*3+4)*(8/2)\n",
    "print(z)"
   ]
  },
  {
   "cell_type": "code",
   "execution_count": 7,
   "id": "3d0cce4c-500e-4f3c-8e18-dc6f77e71dbb",
   "metadata": {},
   "outputs": [
    {
     "name": "stdout",
     "output_type": "stream",
     "text": [
      "20\n",
      "10\n"
     ]
    }
   ],
   "source": [
    "a=10\n",
    "b=20\n",
    "c=a\n",
    "a=b\n",
    "b=c\n",
    "print(a)\n",
    "print(b)"
   ]
  },
  {
   "cell_type": "code",
   "execution_count": 39,
   "id": "b242020b-8d14-43cc-8d43-bd9e2432213f",
   "metadata": {},
   "outputs": [
    {
     "name": "stdout",
     "output_type": "stream",
     "text": [
      "20\n",
      "-80\n"
     ]
    }
   ],
   "source": [
    "a=10\n",
    "b=20\n",
    "b=b-a\n",
    "a=a+b\n",
    "print(a)\n",
    "print(b)"
   ]
  },
  {
   "cell_type": "code",
   "execution_count": 37,
   "id": "d57ad48b-2f66-4bdc-8c23-e0949197418f",
   "metadata": {},
   "outputs": [
    {
     "name": "stdout",
     "output_type": "stream",
     "text": [
      "200.0\n",
      "100.0\n"
     ]
    }
   ],
   "source": [
    "a=10\n",
    "b=20\n",
    "a=(a*b)/10\n",
    "b=(b*a)/40\n",
    "print(a)\n",
    "print(b)"
   ]
  },
  {
   "cell_type": "code",
   "execution_count": 54,
   "id": "f80433ce-5b9a-497b-b67f-bab323c5cd11",
   "metadata": {},
   "outputs": [
    {
     "name": "stdout",
     "output_type": "stream",
     "text": [
      "20\n",
      "109\n"
     ]
    }
   ],
   "source": [
    "a=109\n",
    "b=20\n",
    "a=a+b\n",
    "b=a-b\n",
    "a=a-b\n",
    "print(a)\n",
    "print(b)"
   ]
  },
  {
   "cell_type": "code",
   "execution_count": 62,
   "id": "fd723e69-8b22-42c4-843e-1e56dc058c7a",
   "metadata": {},
   "outputs": [
    {
     "data": {
      "text/plain": [
       "(6.0, 9.5)"
      ]
     },
     "execution_count": 62,
     "metadata": {},
     "output_type": "execute_result"
    }
   ],
   "source": [
    "x1=2\n",
    "x2=10\n",
    "y1=4\n",
    "y2=15\n",
    "kumar=((x1+x2)/2,(y1+y2)/2)\n",
    "kumar"
   ]
  },
  {
   "cell_type": "code",
   "execution_count": 68,
   "id": "3062ebbe-c54d-4ff8-adac-63d4d74cc463",
   "metadata": {},
   "outputs": [
    {
     "data": {
      "text/plain": [
       "1.5943877551020411"
      ]
     },
     "execution_count": 68,
     "metadata": {},
     "output_type": "execute_result"
    }
   ],
   "source": [
    "height=1.6\n",
    "weight=50\n",
    "BMI=weight/height**2\n",
    "BMI"
   ]
  },
  {
   "cell_type": "code",
   "execution_count": 7,
   "id": "da992618-59cd-46e9-9ac1-baecdd3e353d",
   "metadata": {},
   "outputs": [
    {
     "name": "stdout",
     "output_type": "stream",
     "text": [
      "d\n"
     ]
    }
   ],
   "source": [
    "a=\"hello world\"\n",
    "print(a[10])"
   ]
  },
  {
   "cell_type": "code",
   "execution_count": 11,
   "id": "b29e0fed-a333-4711-a61c-ec8adaf40b06",
   "metadata": {},
   "outputs": [
    {
     "name": "stdout",
     "output_type": "stream",
     "text": [
      "he\n"
     ]
    }
   ],
   "source": [
    "a=\"hello world\"\n",
    "print(a[:2])"
   ]
  },
  {
   "cell_type": "code",
   "execution_count": 15,
   "id": "3573ddf7-2969-463a-925b-f05c714acb25",
   "metadata": {},
   "outputs": [
    {
     "name": "stdout",
     "output_type": "stream",
     "text": [
      "llo world\n"
     ]
    }
   ],
   "source": [
    "a=\"hello world\"\n",
    "print(a[2:])"
   ]
  },
  {
   "cell_type": "code",
   "execution_count": 17,
   "id": "881e1793-b059-4374-8770-b063eebd6350",
   "metadata": {},
   "outputs": [
    {
     "name": "stdout",
     "output_type": "stream",
     "text": [
      "hello wor\n"
     ]
    }
   ],
   "source": [
    "a=\"hello world\"\n",
    "print(a[:-2])"
   ]
  },
  {
   "cell_type": "code",
   "execution_count": 19,
   "id": "d48b75a9-9481-4ee1-be2a-3115acbac2d4",
   "metadata": {},
   "outputs": [
    {
     "name": "stdout",
     "output_type": "stream",
     "text": [
      "ld\n"
     ]
    }
   ],
   "source": [
    "a=\"hello world\"\n",
    "print(a[-2:])"
   ]
  },
  {
   "cell_type": "code",
   "execution_count": 21,
   "id": "e45ce078-d92d-4055-9fa5-27f6657a9457",
   "metadata": {},
   "outputs": [
    {
     "name": "stdout",
     "output_type": "stream",
     "text": [
      "ell\n"
     ]
    }
   ],
   "source": [
    "a=\"hello world\"\n",
    "print(a[1:4])\n",
    "\n"
   ]
  },
  {
   "cell_type": "code",
   "execution_count": 23,
   "id": "84df9ba6-83a2-4f5b-8201-a448d94229e5",
   "metadata": {},
   "outputs": [
    {
     "name": "stdout",
     "output_type": "stream",
     "text": [
      "ello wo\n"
     ]
    }
   ],
   "source": [
    "a=\"hello world\"\n",
    "print(a[1:8])"
   ]
  },
  {
   "cell_type": "code",
   "execution_count": 25,
   "id": "1b90489c-e78a-47dc-aa8e-e76e381a1873",
   "metadata": {},
   "outputs": [
    {
     "name": "stdout",
     "output_type": "stream",
     "text": [
      "ll\n"
     ]
    }
   ],
   "source": [
    "a=\"hello world\"\n",
    "print(a[2:-7])"
   ]
  },
  {
   "cell_type": "code",
   "execution_count": 27,
   "id": "b97755fd-b898-48ab-a161-63aa142b6303",
   "metadata": {},
   "outputs": [
    {
     "name": "stdout",
     "output_type": "stream",
     "text": [
      "dlrow olleH\n"
     ]
    }
   ],
   "source": [
    "str=\"Hello world\"\n",
    "print(str[::-1])"
   ]
  },
  {
   "cell_type": "code",
   "execution_count": 29,
   "id": "c5f4a09f-1fcc-4f6b-878c-8782c2250ba4",
   "metadata": {},
   "outputs": [
    {
     "name": "stdout",
     "output_type": "stream",
     "text": [
      "drwolH\n"
     ]
    }
   ],
   "source": [
    "str=\"Hello world\"\n",
    "print(str[::-2])"
   ]
  },
  {
   "cell_type": "code",
   "execution_count": 31,
   "id": "2c9b0e41-4908-4e39-97b2-4b4142f58bc6",
   "metadata": {},
   "outputs": [
    {
     "name": "stdout",
     "output_type": "stream",
     "text": [
      "Hlowrd\n"
     ]
    }
   ],
   "source": [
    "str=\"Hello world\"\n",
    "print(str[::2])"
   ]
  },
  {
   "cell_type": "code",
   "execution_count": 33,
   "id": "8b81b0af-7161-4254-84b5-e4354711172b",
   "metadata": {},
   "outputs": [
    {
     "name": "stdout",
     "output_type": "stream",
     "text": [
      "llo world\n"
     ]
    }
   ],
   "source": [
    "str=\"Hello world\"\n",
    "print(str[2::])\n"
   ]
  },
  {
   "cell_type": "code",
   "execution_count": 35,
   "id": "1134d7d1-a25b-4aae-a4c9-f20730d6a2c1",
   "metadata": {},
   "outputs": [
    {
     "name": "stdout",
     "output_type": "stream",
     "text": [
      "dwl\n"
     ]
    }
   ],
   "source": [
    "str=\"Hello world\"\n",
    "print(str[::-4])"
   ]
  },
  {
   "cell_type": "code",
   "execution_count": 37,
   "id": "afa26989-1019-419d-a84a-3e2639d36100",
   "metadata": {},
   "outputs": [
    {
     "name": "stdout",
     "output_type": "stream",
     "text": [
      "Hlowrd\n"
     ]
    }
   ],
   "source": [
    "str=\"Hello world\"\n",
    "print(str[0:11:2])"
   ]
  },
  {
   "cell_type": "code",
   "execution_count": 39,
   "id": "9816d288-a957-4db2-9392-9ada2b51fcd5",
   "metadata": {},
   "outputs": [
    {
     "data": {
      "text/plain": [
       "'chunnuchunnumunnu'"
      ]
     },
     "execution_count": 39,
     "metadata": {},
     "output_type": "execute_result"
    }
   ],
   "source": [
    "a=2*'chunnu'+'munnu'\n",
    "a"
   ]
  },
  {
   "cell_type": "code",
   "execution_count": 49,
   "id": "34ed559d-894c-4094-97bb-e03d38a1c6ce",
   "metadata": {},
   "outputs": [
    {
     "name": "stdout",
     "output_type": "stream",
     "text": [
      "python\n"
     ]
    }
   ],
   "source": [
    "a1='py''thon'\n",
    "print(a1)"
   ]
  },
  {
   "cell_type": "code",
   "execution_count": 51,
   "id": "df672241-c13d-42ba-a804-875fd1e242c8",
   "metadata": {},
   "outputs": [
    {
     "name": "stdout",
     "output_type": "stream",
     "text": [
      "python\n"
     ]
    }
   ],
   "source": [
    "a1='py'+'thon'\n",
    "print(a1)"
   ]
  },
  {
   "cell_type": "code",
   "execution_count": 85,
   "id": "f9e1614d-0b9b-4ba0-a0ba-f1fba1be2abb",
   "metadata": {},
   "outputs": [
    {
     "name": "stdout",
     "output_type": "stream",
     "text": [
      "321\n"
     ]
    }
   ],
   "source": [
    "num='123'\n",
    "print(num[::-1])\n"
   ]
  },
  {
   "cell_type": "code",
   "execution_count": 109,
   "id": "77e7e8f7-3bab-4022-8d4b-5578e00f73f3",
   "metadata": {},
   "outputs": [
    {
     "data": {
      "text/plain": [
       "123.0"
      ]
     },
     "execution_count": 109,
     "metadata": {},
     "output_type": "execute_result"
    }
   ],
   "source": [
    "i=123\n",
    "j=(float(i))\n",
    "j"
   ]
  },
  {
   "cell_type": "code",
   "execution_count": 25,
   "id": "ab99c317-0c1c-4b2e-b7e0-1b1f0374fd4b",
   "metadata": {},
   "outputs": [
    {
     "name": "stdout",
     "output_type": "stream",
     "text": [
      "False\n",
      "False\n",
      "False\n",
      "True\n"
     ]
    }
   ],
   "source": [
    "a=\"ALL IS WELL\"\n",
    "a\n",
    "print(a.isalpha())\n",
    "print(a.isdigit())\n",
    "print(a.islower())\n",
    "print(a.isupper())\n"
   ]
  },
  {
   "cell_type": "code",
   "execution_count": 29,
   "id": "e3fe05b6-0ae5-4d1e-a00d-120c6ca6490a",
   "metadata": {},
   "outputs": [
    {
     "name": "stdout",
     "output_type": "stream",
     "text": [
      "W r yhndt cets\n"
     ]
    }
   ],
   "source": [
    "x=\"We are python data scientist\"\n",
    "x\n",
    "print(x[::2])"
   ]
  },
  {
   "cell_type": "code",
   "execution_count": 39,
   "id": "797ac8b9-bda5-4a1b-a7bf-bc186a47966a",
   "metadata": {},
   "outputs": [
    {
     "name": "stdin",
     "output_type": "stream",
     "text": [
      " 9\n"
     ]
    },
    {
     "name": "stdout",
     "output_type": "stream",
     "text": [
      "81\n"
     ]
    }
   ],
   "source": [
    "n=int(input())\n",
    "if(n>0):\n",
    "    print(n*n)\n",
    "else:\n",
    "    print(n*n*n)"
   ]
  },
  {
   "cell_type": "code",
   "execution_count": 41,
   "id": "4a99e410-7a7c-42ac-a198-2a888004fbf9",
   "metadata": {},
   "outputs": [
    {
     "name": "stdout",
     "output_type": "stream",
     "text": [
      "i is between 15 and 20\n"
     ]
    }
   ],
   "source": [
    "i=16\n",
    "if(i<15):\n",
    "    print(\"i is smaller than 15\")\n",
    "else:\n",
    "    if(i>20):\n",
    "        print(\"i is also greater than 20\")\n",
    "    else:\n",
    "        print(\"i is between 15 and 20\")\n",
    "    "
   ]
  },
  {
   "cell_type": "code",
   "execution_count": 36,
   "id": "0354ccee-4606-45f1-a411-ff5ef6a88c4d",
   "metadata": {},
   "outputs": [
    {
     "name": "stdin",
     "output_type": "stream",
     "text": [
      " 30\n",
      " 40\n",
      " 99\n",
      " 66\n",
      " 77\n"
     ]
    },
    {
     "name": "stdout",
     "output_type": "stream",
     "text": [
      "30\n",
      "40\n",
      "242\n",
      "80.66666666666666\n",
      "first div\n"
     ]
    }
   ],
   "source": [
    "name=input()\n",
    "roll_no=int(input())\n",
    "m1=int(input())\n",
    "m2=int(input())\n",
    "m3=int(input())\n",
    "print(name)\n",
    "print( roll_no)\n",
    "tot=m1+m2+m3\n",
    "print(tot)\n",
    "per=(tot/300)*100\n",
    "print(per)\n",
    "if(m1<=40 or m2<=40 or m3<=40):\n",
    "    print(\"Fail\")\n",
    "elif(per>=40 and per<=49):\n",
    "    print(\"third Div\")\n",
    "elif(per>=50 and per<=59):\n",
    "    Print(\"sec div\")\n",
    "else:\n",
    "    print(\"first div\")\n",
    "    \n"
   ]
  },
  {
   "cell_type": "code",
   "execution_count": 30,
   "id": "53bb49d4-cc3d-4b82-8f1a-7a5b6056c1a9",
   "metadata": {},
   "outputs": [
    {
     "name": "stdin",
     "output_type": "stream",
     "text": [
      "enter your number:  30\n"
     ]
    },
    {
     "name": "stdout",
     "output_type": "stream",
     "text": [
      "yes, d is divisible by 2 and 3\n"
     ]
    }
   ],
   "source": [
    "d=int(input(\"enter your number: \"))\n",
    "if(d%2==0 and d%3==0):\n",
    "    print(\"yes, d is divisible by 2 and 3\")\n",
    "else:\n",
    "    print(\"Not divisible\")\n",
    "      \n",
    "      "
   ]
  },
  {
   "cell_type": "code",
   "execution_count": 62,
   "id": "32bad41e-8af9-40c5-8674-1e3bd5bd073b",
   "metadata": {},
   "outputs": [
    {
     "name": "stdin",
     "output_type": "stream",
     "text": [
      " 2004\n"
     ]
    },
    {
     "name": "stdout",
     "output_type": "stream",
     "text": [
      "leap year\n"
     ]
    }
   ],
   "source": [
    "x=int(input())\n",
    "if(x%4==0):\n",
    "    if(x%100!=0 or x%400==0):\n",
    "        print(\"leap year\")\n",
    "    else:\n",
    "        print(\"not a leap year\")\n",
    "else:\n",
    "    print(\"not a leap year\")\n",
    "    \n",
    "        "
   ]
  },
  {
   "cell_type": "code",
   "execution_count": 138,
   "id": "2edea6a9-c348-4911-b6d9-13da6975e41c",
   "metadata": {},
   "outputs": [
    {
     "name": "stdin",
     "output_type": "stream",
     "text": [
      " 7\n"
     ]
    },
    {
     "name": "stdout",
     "output_type": "stream",
     "text": [
      "invalid\n"
     ]
    }
   ],
   "source": [
    "days=int(input())\n",
    "if(days<=5):\n",
    "    x1=(days*2)\n",
    "    print(x1)\n",
    "    if(days>=6 and days<=10):\n",
    "        x2=(x1+((days-5)*3))\n",
    "        print(x2)    \n",
    "else:\n",
    "    print(\"invalid\")\n",
    "\n",
    "        "
   ]
  },
  {
   "cell_type": "code",
   "execution_count": 122,
   "id": "3b50e464-8fb9-4a8b-8ac6-be90798f9cf1",
   "metadata": {},
   "outputs": [
    {
     "name": "stdout",
     "output_type": "stream",
     "text": [
      "22\n"
     ]
    }
   ],
   "source": [
    "days=9\n",
    "if(days<=5):\n",
    "    print(days*2)\n",
    "elif(days>=6 and days<=10):\n",
    "    print(10+((days-5)*3))\n",
    "\n",
    "\n"
   ]
  },
  {
   "cell_type": "code",
   "execution_count": 175,
   "id": "5a376754-956b-4140-8abb-f059a4a983db",
   "metadata": {},
   "outputs": [
    {
     "name": "stdin",
     "output_type": "stream",
     "text": [
      " 1\n"
     ]
    },
    {
     "name": "stdout",
     "output_type": "stream",
     "text": [
      "Invalid Number\n"
     ]
    }
   ],
   "source": [
    "n=int(input())\n",
    "if(n>=100 and n<=999):\n",
    "    mid=(n//10)%10\n",
    "    if(mid%3==0):\n",
    "        print(\"Trendy number\")\n",
    "    else:\n",
    "        print(\"Not a Trendy number\")\n",
    "else:\n",
    "    print(\"Invalid Number\")\n",
    "    "
   ]
  },
  {
   "cell_type": "code",
   "execution_count": 187,
   "id": "0b0cd148-5b57-4e97-a8b6-ddf31f5e6cc4",
   "metadata": {},
   "outputs": [
    {
     "name": "stdin",
     "output_type": "stream",
     "text": [
      " 2\n",
      " 6\n",
      " 1\n"
     ]
    },
    {
     "name": "stdout",
     "output_type": "stream",
     "text": [
      "6 is greatest\n"
     ]
    }
   ],
   "source": [
    "a=int(input())\n",
    "b=int(input())\n",
    "c=int(input())\n",
    "if(a>b):\n",
    "    if(a>c):\n",
    "        print(a, \"is greatest\")\n",
    "    else:\n",
    "        print(c, \"is greatest\")\n",
    "elif(c>b):\n",
    "    print(c, \"is greatest\")\n",
    "else:\n",
    "    print(b, \"is greatest\")\n",
    "        \n",
    "    \n"
   ]
  },
  {
   "cell_type": "code",
   "execution_count": 3,
   "id": "05b7bc41-2070-48f1-90c3-10156dfc55f7",
   "metadata": {},
   "outputs": [
    {
     "name": "stdin",
     "output_type": "stream",
     "text": [
      " 5\n",
      " 4.5\n"
     ]
    },
    {
     "name": "stdout",
     "output_type": "stream",
     "text": [
      "number of items is more\n",
      "11.25\n"
     ]
    }
   ],
   "source": [
    "item=int(input())\n",
    "time=float(input())\n",
    "if item==1:\n",
    "    r_time=time\n",
    "elif item==2:\n",
    "    r_time=time*1.5\n",
    "elif item==3:\n",
    "    r_time=time*2\n",
    "else:\n",
    "    print(\"number of items is more\")\n",
    "print(r_time)\n"
   ]
  },
  {
   "cell_type": "code",
   "execution_count": 19,
   "id": "c8e18ba8-812b-4939-8760-900cc4516f11",
   "metadata": {},
   "outputs": [
    {
     "name": "stdout",
     "output_type": "stream",
     "text": [
      "1\n",
      "2\n",
      "3\n",
      "4\n",
      "5\n"
     ]
    }
   ],
   "source": [
    "a=\"12345\"\n",
    "for i in a:\n",
    "    print(i)\n",
    "    "
   ]
  },
  {
   "cell_type": "code",
   "execution_count": 21,
   "id": "4cffdac6-1f26-4d3d-85fc-aaf3eac46dab",
   "metadata": {
    "scrolled": true
   },
   "outputs": [
    {
     "name": "stdout",
     "output_type": "stream",
     "text": [
      "1\n",
      "2\n",
      "3\n",
      "4\n",
      "5\n"
     ]
    }
   ],
   "source": [
    "for i in range(1,6):\n",
    "    print(i)"
   ]
  },
  {
   "cell_type": "code",
   "execution_count": 25,
   "id": "3dfd9176-e80e-4a8a-8ae1-aa4394151e1b",
   "metadata": {
    "scrolled": true
   },
   "outputs": [
    {
     "name": "stdout",
     "output_type": "stream",
     "text": [
      "1\n",
      "3\n",
      "5\n",
      "7\n",
      "9\n",
      "11\n",
      "13\n",
      "15\n",
      "17\n",
      "19\n",
      "21\n",
      "23\n",
      "25\n"
     ]
    }
   ],
   "source": [
    "for i in range(1,27,2):\n",
    "    print(i)"
   ]
  },
  {
   "cell_type": "code",
   "execution_count": null,
   "id": "61a7cf7d-fc74-4f4a-ada0-7d6da23f2b2a",
   "metadata": {},
   "outputs": [],
   "source": [
    "a=int(input))\n",
    "time=float(input())\n",
    "if(a>=13):\n",
    "    if(time>10.15\n",
    "    "
   ]
  },
  {
   "cell_type": "code",
   "execution_count": 9,
   "id": "7672e348-a337-4595-8994-1ef071fd7544",
   "metadata": {
    "scrolled": true
   },
   "outputs": [
    {
     "name": "stdin",
     "output_type": "stream",
     "text": [
      "enter the age 13\n",
      "enter the time 10.15\n"
     ]
    },
    {
     "name": "stdout",
     "output_type": "stream",
     "text": [
      "the price is 8 dollar\n"
     ]
    }
   ],
   "source": [
    "a = int(input(\"enter the age\"))\n",
    "time= float(input(\"enter the time\"))\n",
    "if (a >= 13 and time == 10.15 or (time == 13.30)):\n",
    "    print(\"the price is 8 dollar\")\n",
    "elif (age > 13 and time == 18.00 or (time == 22.00)):\n",
    "    print(\"The price is 5 dollar\")\n",
    "elif (age<13 and time == 10.15 or (time == 13.30)):\n",
    "    print(\"the price is 4 dollar\")\n",
    "elif (age <13 and time == 18.00 or (time == 22.00)):\n",
    "    print(\"the price is 2 dollars\")\n",
    "else:\n",
    "    print(\"invalid\")"
   ]
  },
  {
   "cell_type": "code",
   "execution_count": 21,
   "id": "b57f9b50-4291-4273-be89-e2b42e05c835",
   "metadata": {
    "scrolled": true
   },
   "outputs": [
    {
     "name": "stdin",
     "output_type": "stream",
     "text": [
      " 03\n",
      " 24\n"
     ]
    },
    {
     "name": "stdout",
     "output_type": "stream",
     "text": [
      "21\n"
     ]
    }
   ],
   "source": [
    "birth=int(input())\n",
    "current=int(input())\n",
    "age=current-birth\n",
    "if(current<birth):\n",
    "    print(\"100\")\n",
    "age=current-birth\n",
    "print(age)\n",
    "    "
   ]
  },
  {
   "cell_type": "code",
   "execution_count": 17,
   "id": "b5d945bf-b7d5-4961-a539-952631337bec",
   "metadata": {
    "scrolled": true
   },
   "outputs": [
    {
     "name": "stdout",
     "output_type": "stream",
     "text": [
      "1  1  loop breaks\n",
      "\n",
      "2  2  loop breaks\n",
      "\n",
      "3  3  loop breaks\n",
      "\n",
      "4  4  loop breaks\n",
      "\n",
      "5  5  loop breaks\n",
      "\n"
     ]
    }
   ],
   "source": [
    "for i in range(1,6):\n",
    "    for j in range(1,4):\n",
    "        if(j==3):\n",
    "            print(\"loop breaks\")\n",
    "            break\n",
    "        print(i,end=\"  \")\n",
    "    print()"
   ]
  },
  {
   "cell_type": "code",
   "execution_count": 21,
   "id": "05a0d616-b3d0-4f35-8eed-38c296cfc266",
   "metadata": {
    "scrolled": true
   },
   "outputs": [
    {
     "name": "stdout",
     "output_type": "stream",
     "text": [
      "1  2  loop breaks\n",
      "\n",
      "1  2  loop breaks\n",
      "\n",
      "1  2  loop breaks\n",
      "\n",
      "1  2  loop breaks\n",
      "\n",
      "1  2  loop breaks\n",
      "\n"
     ]
    }
   ],
   "source": [
    "for i in range(1,6):\n",
    "    for j in range(1,4):\n",
    "        if(j==3):\n",
    "            print(\"loop breaks\")\n",
    "            break\n",
    "        print(j,end=\"  \")\n",
    "    print()\n",
    "    "
   ]
  },
  {
   "cell_type": "code",
   "execution_count": 37,
   "id": "122498a1-9dc7-4c98-96da-89d73b613684",
   "metadata": {
    "scrolled": true
   },
   "outputs": [
    {
     "name": "stdin",
     "output_type": "stream",
     "text": [
      " msds\n",
      " 40000\n",
      " 12000\n",
      " 50000\n"
     ]
    },
    {
     "name": "stdout",
     "output_type": "stream",
     "text": [
      "52000.00\n"
     ]
    }
   ],
   "source": [
    "st=str(input())\n",
    "tf=int(input())\n",
    "bf=int(input())\n",
    "hf=int(input())\n",
    "msds=tf+bf\n",
    "msh=tf+hf\n",
    "mgsds=(150/100*tf)+bf\n",
    "mgsds=(150/100*tf)+hf\n",
    "if(st==\"msds\"):\n",
    "    print(\"%.2f\"%round(msds))\n",
    "elif(st==\"msh\"):\n",
    "    print(\"%.2f\"%round(msh)\n",
    "elif(str==\"mgsds\"):\n",
    "    print(\"%.2f\"%round(mgsds)\n",
    "elif(str==\"mgsh\"):\n",
    "    print(\"%.2f\"%round(mgsh))\n",
    "else:\n",
    "    print(\"invalid\")\n",
    "\n",
    "    \n"
   ]
  },
  {
   "cell_type": "code",
   "execution_count": 15,
   "id": "4d95eb14-f8f3-4fd0-80ce-4bbd989d620d",
   "metadata": {
    "scrolled": true
   },
   "outputs": [
    {
     "name": "stdin",
     "output_type": "stream",
     "text": [
      " 5\n"
     ]
    },
    {
     "name": "stdout",
     "output_type": "stream",
     "text": [
      "15\n"
     ]
    }
   ],
   "source": [
    "n=int(input())\n",
    "sum=0\n",
    "for i in range(n+1):\n",
    "    sum+=i\n",
    "print(sum)"
   ]
  },
  {
   "cell_type": "code",
   "execution_count": 5,
   "id": "3606583f-943c-4620-8a18-a3c1420b90a5",
   "metadata": {
    "scrolled": true
   },
   "outputs": [
    {
     "name": "stdin",
     "output_type": "stream",
     "text": [
      " 9\n"
     ]
    },
    {
     "name": "stdout",
     "output_type": "stream",
     "text": [
      "1\n",
      "2\n",
      "3\n",
      "4\n",
      "5\n",
      "6\n",
      "7\n",
      "8\n",
      "9\n"
     ]
    }
   ],
   "source": [
    "n=int(input())\n",
    "i=1\n",
    "while i<=n:\n",
    "    print(i)\n",
    "    i+=1\n",
    "    \n",
    "    "
   ]
  },
  {
   "cell_type": "markdown",
   "id": "488a7aba-4eb4-4c11-803e-792e42a40977",
   "metadata": {},
   "source": []
  },
  {
   "cell_type": "code",
   "execution_count": 5,
   "id": "89702832-e55d-42b5-a501-2533838355fc",
   "metadata": {},
   "outputs": [
    {
     "name": "stdout",
     "output_type": "stream",
     "text": [
      "1\n",
      "2\n",
      "6\n",
      "24\n"
     ]
    }
   ],
   "source": [
    "fact=1\n",
    "for i in range(1,5):\n",
    "    fact=fact*i\n",
    "    print(fact)\n",
    "    "
   ]
  },
  {
   "cell_type": "code",
   "execution_count": 11,
   "id": "9c88f8f8-2603-4770-be58-87766532636e",
   "metadata": {},
   "outputs": [
    {
     "name": "stdin",
     "output_type": "stream",
     "text": [
      " notebook20\n"
     ]
    },
    {
     "name": "stdout",
     "output_type": "stream",
     "text": [
      "Digit: 2\n",
      "Alphabet: 8\n"
     ]
    }
   ],
   "source": [
    "x=input()\n",
    "digit=0\n",
    "alpha=0\n",
    "for i in x:\n",
    "    if i.isdigit():\n",
    "        digit+=1\n",
    "    elif i.isalpha():\n",
    "        alpha+=1\n",
    "print(\"Digit:\",digit)\n",
    "print(\"Alphabet:\",alpha)"
   ]
  },
  {
   "cell_type": "code",
   "execution_count": 212,
   "id": "09683f4d-fd46-43fd-9809-e83346726a5e",
   "metadata": {
    "scrolled": true
   },
   "outputs": [
    {
     "name": "stdin",
     "output_type": "stream",
     "text": [
      " sakshi gaikwad\n"
     ]
    },
    {
     "name": "stdout",
     "output_type": "stream",
     "text": [
      "Reversed Text: dawkiag ihskas\n",
      "No, not palindrome\n"
     ]
    }
   ],
   "source": [
    "n=str(input())\n",
    "rev= \"\"\n",
    "for i in n:\n",
    "    rev=i+rev\n",
    "print(\"Reversed Text:\",rev)\n",
    "if n==rev:\n",
    "    print(\"yup, palindrome\")\n",
    "else:\n",
    "    print(\"No, not palindrome\")"
   ]
  },
  {
   "cell_type": "code",
   "execution_count": 17,
   "id": "d5063996-a9c9-49af-8967-9521489fed83",
   "metadata": {
    "scrolled": true
   },
   "outputs": [
    {
     "name": "stdin",
     "output_type": "stream",
     "text": [
      " 1222\n"
     ]
    },
    {
     "ename": "TypeError",
     "evalue": "unsupported operand type(s) for +: 'int' and 'str'",
     "output_type": "error",
     "traceback": [
      "\u001b[1;31m---------------------------------------------------------------------------\u001b[0m",
      "\u001b[1;31mTypeError\u001b[0m                                 Traceback (most recent call last)",
      "Cell \u001b[1;32mIn[17], line 3\u001b[0m\n\u001b[0;32m      1\u001b[0m n\u001b[38;5;241m=\u001b[39m\u001b[38;5;28minput\u001b[39m()\n\u001b[0;32m      2\u001b[0m \u001b[38;5;28;01mfor\u001b[39;00m i \u001b[38;5;129;01min\u001b[39;00m n:\n\u001b[1;32m----> 3\u001b[0m     \u001b[38;5;28msum\u001b[39m\u001b[38;5;241m=\u001b[39m\u001b[38;5;28msum\u001b[39m(i)\n\u001b[0;32m      4\u001b[0m     \u001b[38;5;28mprint\u001b[39m(\u001b[38;5;28msum\u001b[39m)\n",
      "\u001b[1;31mTypeError\u001b[0m: unsupported operand type(s) for +: 'int' and 'str'"
     ]
    }
   ],
   "source": [
    "n=input()\n",
    "for i in n:\n",
    "    sum=sum(i)\n",
    "    print(sum)\n",
    "    \n",
    "    "
   ]
  },
  {
   "cell_type": "code",
   "execution_count": 1,
   "id": "ca93e5bf-a559-4201-98fa-f508924f2637",
   "metadata": {
    "scrolled": true
   },
   "outputs": [
    {
     "name": "stdout",
     "output_type": "stream",
     "text": [
      "()\n"
     ]
    }
   ],
   "source": [
    "empty_tuple=()\n",
    "print(empty_tuple)\n"
   ]
  },
  {
   "cell_type": "code",
   "execution_count": 3,
   "id": "9e8ce98b-4c7a-4ed2-9a13-170ae23563b3",
   "metadata": {
    "scrolled": true
   },
   "outputs": [
    {
     "name": "stdout",
     "output_type": "stream",
     "text": [
      "(2, 4, 1, 4)\n"
     ]
    }
   ],
   "source": [
    "v_tuple=2,4,1,4\n",
    "print(v_tuple)"
   ]
  },
  {
   "cell_type": "code",
   "execution_count": 5,
   "id": "18277d9d-de6b-4eef-8548-1a473d99699b",
   "metadata": {
    "scrolled": true
   },
   "outputs": [
    {
     "name": "stdout",
     "output_type": "stream",
     "text": [
      "(2, 4, 1, 4, 'hello')\n"
     ]
    }
   ],
   "source": [
    "v_tuple=(2,4,1,4,\"hello\")\n",
    "print(v_tuple)"
   ]
  },
  {
   "cell_type": "code",
   "execution_count": 7,
   "id": "fe331138-6f20-4753-846d-75933477dbae",
   "metadata": {},
   "outputs": [
    {
     "name": "stdout",
     "output_type": "stream",
     "text": [
      "hello\n"
     ]
    }
   ],
   "source": [
    "tuple=(\"hello\")\n",
    "print(tuple)"
   ]
  },
  {
   "cell_type": "code",
   "execution_count": 9,
   "id": "f698e7a1-54e5-4ce0-9f47-cef10228bb17",
   "metadata": {
    "scrolled": true
   },
   "outputs": [
    {
     "name": "stdout",
     "output_type": "stream",
     "text": [
      "('hello',)\n"
     ]
    }
   ],
   "source": [
    "tuple=(\"hello\",)\n",
    "print(tuple)"
   ]
  },
  {
   "cell_type": "code",
   "execution_count": 17,
   "id": "f0fe1944-6044-4864-a8a3-531b06686c77",
   "metadata": {},
   "outputs": [
    {
     "ename": "TypeError",
     "evalue": "'tuple' object does not support item assignment",
     "output_type": "error",
     "traceback": [
      "\u001b[1;31m---------------------------------------------------------------------------\u001b[0m",
      "\u001b[1;31mTypeError\u001b[0m                                 Traceback (most recent call last)",
      "Cell \u001b[1;32mIn[17], line 2\u001b[0m\n\u001b[0;32m      1\u001b[0m \u001b[38;5;28mtuple\u001b[39m\u001b[38;5;241m=\u001b[39m(\u001b[38;5;241m2\u001b[39m,\u001b[38;5;241m7\u001b[39m,\u001b[38;5;124m\"\u001b[39m\u001b[38;5;124mhello\u001b[39m\u001b[38;5;124m\"\u001b[39m,)\n\u001b[1;32m----> 2\u001b[0m \u001b[38;5;28mtuple\u001b[39m[\u001b[38;5;241m1\u001b[39m]\u001b[38;5;241m=\u001b[39m\u001b[38;5;241m7\u001b[39m\n\u001b[0;32m      3\u001b[0m \u001b[38;5;28mprint\u001b[39m(\u001b[38;5;28mtuple\u001b[39m)\n",
      "\u001b[1;31mTypeError\u001b[0m: 'tuple' object does not support item assignment"
     ]
    }
   ],
   "source": [
    "tuple=(2,7,\"hello\",)\n",
    "tuple[1]=7\n",
    "print(tuple)"
   ]
  },
  {
   "cell_type": "code",
   "execution_count": 19,
   "id": "b5bbad3c-1fe6-4992-8576-993cf385e567",
   "metadata": {
    "scrolled": true
   },
   "outputs": [
    {
     "name": "stdout",
     "output_type": "stream",
     "text": [
      "7\n"
     ]
    }
   ],
   "source": [
    "tuple=(2,7,\"hello\",)\n",
    "print(tuple[1])"
   ]
  },
  {
   "cell_type": "code",
   "execution_count": 21,
   "id": "dbfba24f-bb77-4dab-9f31-edd041d20099",
   "metadata": {
    "scrolled": true
   },
   "outputs": [
    {
     "name": "stdout",
     "output_type": "stream",
     "text": [
      "(2, 7, 'hello', 3, 7.5, 8, 'hey')\n"
     ]
    }
   ],
   "source": [
    "tuple=(2,7,\"hello\")\n",
    "tuple1=(3,7.5,8,\"hey\")\n",
    "print(tuple+tuple1)\n",
    "#concatination"
   ]
  },
  {
   "cell_type": "code",
   "execution_count": 25,
   "id": "42bb1ea3-deb2-44dc-93ad-a409e4448747",
   "metadata": {},
   "outputs": [
    {
     "name": "stdout",
     "output_type": "stream",
     "text": [
      "((2, 7, 'hello'), (3, 7.5, 8, 'hey'))\n"
     ]
    }
   ],
   "source": [
    "#nesting of tuple\n",
    "tuple=(2,7,\"hello\")\n",
    "tuple1=(3,7.5,8,\"hey\")\n",
    "tuple2=tuple,tuple1\n",
    "print(tuple2)"
   ]
  },
  {
   "cell_type": "code",
   "execution_count": 27,
   "id": "b37c6983-6973-49a8-8e34-a67b802001d5",
   "metadata": {},
   "outputs": [
    {
     "name": "stdout",
     "output_type": "stream",
     "text": [
      "(3, 7.5, 8, 'hey', 3, 7.5, 8, 'hey')\n"
     ]
    }
   ],
   "source": [
    "tuple1=(3,7.5,8,\"hey\")*2\n",
    "print(tuple1)"
   ]
  },
  {
   "cell_type": "code",
   "execution_count": 37,
   "id": "09455caf-9514-45f8-8282-79a6448608b4",
   "metadata": {},
   "outputs": [
    {
     "name": "stdout",
     "output_type": "stream",
     "text": [
      "hey\n"
     ]
    }
   ],
   "source": [
    "tuple1=(3,7.5,8,\"hey\")\n",
    "print(tuple1[3])"
   ]
  },
  {
   "cell_type": "code",
   "execution_count": 39,
   "id": "933611cd-90f8-4468-9624-d324f306df7e",
   "metadata": {},
   "outputs": [
    {
     "name": "stdout",
     "output_type": "stream",
     "text": [
      "(8, 'hey')\n"
     ]
    }
   ],
   "source": [
    "tuple1=(3,7.5,8,\"hey\")\n",
    "print(tuple1[2:])"
   ]
  },
  {
   "cell_type": "code",
   "execution_count": 47,
   "id": "5dffb565-40e5-4a45-b6a1-f832f49a0a76",
   "metadata": {},
   "outputs": [
    {
     "name": "stdout",
     "output_type": "stream",
     "text": [
      "(7.5, 8)\n"
     ]
    }
   ],
   "source": [
    "tuple1=(3,7.5,8,\"hey\")\n",
    "print(tuple1[1:-1])"
   ]
  },
  {
   "cell_type": "code",
   "execution_count": 51,
   "id": "3f32c3c9-bce0-4e99-aa32-c92f0cb79193",
   "metadata": {},
   "outputs": [
    {
     "name": "stdout",
     "output_type": "stream",
     "text": [
      "(3, 7.5, 8)\n"
     ]
    }
   ],
   "source": [
    "tuple1=(3,7.5,8,\"hey\")\n",
    "print(tuple1[:3])"
   ]
  },
  {
   "cell_type": "code",
   "execution_count": 53,
   "id": "518cda50-bedd-4ae2-9f34-69e820b199dc",
   "metadata": {},
   "outputs": [
    {
     "name": "stdout",
     "output_type": "stream",
     "text": [
      "(3, 7.5, 8)\n"
     ]
    }
   ],
   "source": [
    "tuple1=(3,7.5,8,\"hey\")\n",
    "print(tuple1[:-1])"
   ]
  },
  {
   "cell_type": "code",
   "execution_count": 55,
   "id": "6e538737-1631-4cb1-8096-0151cf8249a9",
   "metadata": {},
   "outputs": [
    {
     "name": "stdout",
     "output_type": "stream",
     "text": [
      "hey\n"
     ]
    }
   ],
   "source": [
    "tuple1=(3,7.5,8,\"hey\")\n",
    "print(tuple1[-1])"
   ]
  },
  {
   "cell_type": "code",
   "execution_count": 59,
   "id": "d5ba449b-d855-4593-8d69-efad8825b432",
   "metadata": {},
   "outputs": [
    {
     "name": "stdout",
     "output_type": "stream",
     "text": [
      "(7.5, 8, 'hey')\n"
     ]
    }
   ],
   "source": [
    "tuple1=(3,7.5,8,\"hey\")\n",
    "print(tuple1[-3:])"
   ]
  },
  {
   "cell_type": "code",
   "execution_count": 61,
   "id": "216a6ccf-611e-4727-a6fe-a7dac3bea14d",
   "metadata": {},
   "outputs": [
    {
     "name": "stdout",
     "output_type": "stream",
     "text": [
      "(3,)\n"
     ]
    }
   ],
   "source": [
    "tuple1=(3,7.5,8,\"hey\")\n",
    "print(tuple1[:-3])"
   ]
  },
  {
   "cell_type": "code",
   "execution_count": 63,
   "id": "57966a31-faf1-40a5-b10b-6fc573e4d05f",
   "metadata": {},
   "outputs": [
    {
     "name": "stdout",
     "output_type": "stream",
     "text": [
      "('hey', 7.5)\n"
     ]
    }
   ],
   "source": [
    "tuple1=(3,7.5,8,\"hey\")\n",
    "print(tuple1[::-2])"
   ]
  },
  {
   "cell_type": "code",
   "execution_count": 65,
   "id": "2bf34308-720e-4fb8-8f78-318b630badf0",
   "metadata": {},
   "outputs": [
    {
     "name": "stdout",
     "output_type": "stream",
     "text": [
      "(7.5, 8, 'hey', 8, 6, 5, 0.5)\n"
     ]
    }
   ],
   "source": [
    "tuple1=(3,7.5,8,\"hey\",8,6,5,0.5)\n",
    "print(tuple1[1::1])"
   ]
  },
  {
   "cell_type": "code",
   "execution_count": 67,
   "id": "8ae5d268-9f85-4b25-8725-2cc4833f2938",
   "metadata": {},
   "outputs": [
    {
     "name": "stdout",
     "output_type": "stream",
     "text": [
      "(7.5, 8, 0.5)\n"
     ]
    }
   ],
   "source": [
    "tuple1=(3,7.5,8,\"hey\",8,6,5,0.5)\n",
    "print(tuple1[1::3])"
   ]
  },
  {
   "cell_type": "code",
   "execution_count": 69,
   "id": "9980a4da-7998-417b-add8-5e6cd65d10cb",
   "metadata": {},
   "outputs": [
    {
     "name": "stdout",
     "output_type": "stream",
     "text": [
      "(45, 7.5, 5)\n"
     ]
    }
   ],
   "source": [
    "tuple1=(26,45,\"hello\",7.5,'z',5,6.9)\n",
    "print(tuple1[1:6:2])"
   ]
  },
  {
   "cell_type": "code",
   "execution_count": 71,
   "id": "d6e59c34-c51b-4f81-9a48-4b756406d4a4",
   "metadata": {},
   "outputs": [
    {
     "name": "stdout",
     "output_type": "stream",
     "text": [
      "(45,)\n"
     ]
    }
   ],
   "source": [
    "tuple1=(26,45,\"hello\",7.5,'z',5,6.9)\n",
    "print(tuple1[1:3:5])"
   ]
  },
  {
   "cell_type": "code",
   "execution_count": 1,
   "id": "aaf78f14-7379-4a3e-befe-b17088fe65c0",
   "metadata": {},
   "outputs": [
    {
     "ename": "NameError",
     "evalue": "name 'tuple1' is not defined",
     "output_type": "error",
     "traceback": [
      "\u001b[1;31m---------------------------------------------------------------------------\u001b[0m",
      "\u001b[1;31mNameError\u001b[0m                                 Traceback (most recent call last)",
      "Cell \u001b[1;32mIn[1], line 4\u001b[0m\n\u001b[0;32m      2\u001b[0m tuple1\u001b[38;5;241m=\u001b[39m(\u001b[38;5;241m26\u001b[39m,\u001b[38;5;241m45\u001b[39m,\u001b[38;5;124m\"\u001b[39m\u001b[38;5;124mhello\u001b[39m\u001b[38;5;124m\"\u001b[39m,\u001b[38;5;241m7.5\u001b[39m,\u001b[38;5;124m'\u001b[39m\u001b[38;5;124mz\u001b[39m\u001b[38;5;124m'\u001b[39m,\u001b[38;5;241m5\u001b[39m,\u001b[38;5;241m6.9\u001b[39m)\n\u001b[0;32m      3\u001b[0m \u001b[38;5;28;01mdel\u001b[39;00m(tuple1)\n\u001b[1;32m----> 4\u001b[0m \u001b[38;5;28mprint\u001b[39m(tuple1)\n",
      "\u001b[1;31mNameError\u001b[0m: name 'tuple1' is not defined"
     ]
    }
   ],
   "source": [
    "#deleting\n",
    "tuple1=(26,45,\"hello\",7.5,'z',5,6.9)\n",
    "del(tuple1)\n",
    "print(tuple1)\n"
   ]
  },
  {
   "cell_type": "code",
   "execution_count": 87,
   "id": "5daf85f9-20a2-4f2e-8926-30f8ff5240ba",
   "metadata": {
    "scrolled": true
   },
   "outputs": [
    {
     "name": "stdout",
     "output_type": "stream",
     "text": [
      "(26, 45, 'hello', 7.5, 'z', 5, 6.9)\n",
      "(24, 5, 'hellooo', 7, 'x', 5.9, 9)\n"
     ]
    },
    {
     "ename": "NameError",
     "evalue": "name 'tuple1' is not defined",
     "output_type": "error",
     "traceback": [
      "\u001b[1;31m---------------------------------------------------------------------------\u001b[0m",
      "\u001b[1;31mNameError\u001b[0m                                 Traceback (most recent call last)",
      "Cell \u001b[1;32mIn[87], line 6\u001b[0m\n\u001b[0;32m      4\u001b[0m \u001b[38;5;28mprint\u001b[39m(tuple2)\n\u001b[0;32m      5\u001b[0m \u001b[38;5;28;01mdel\u001b[39;00m(tuple1)\n\u001b[1;32m----> 6\u001b[0m \u001b[38;5;28mprint\u001b[39m(tuple1)\n",
      "\u001b[1;31mNameError\u001b[0m: name 'tuple1' is not defined"
     ]
    }
   ],
   "source": [
    "tuple1=(26,45,\"hello\",7.5,'z',5,6.9)\n",
    "print(tuple1)\n",
    "tuple2=(24,5,\"hellooo\",7,'x',5.9,9)\n",
    "print(tuple2)\n",
    "del(tuple1)\n",
    "print(tuple1)"
   ]
  },
  {
   "cell_type": "code",
   "execution_count": 3,
   "id": "6e826946-5423-480f-b7b8-1015abc941d0",
   "metadata": {
    "scrolled": true
   },
   "outputs": [
    {
     "data": {
      "text/plain": [
       "[10, 20, 30, 40]"
      ]
     },
     "execution_count": 3,
     "metadata": {},
     "output_type": "execute_result"
    }
   ],
   "source": [
    "a=[10,20,30,40]\n",
    "a\n"
   ]
  },
  {
   "cell_type": "code",
   "execution_count": 7,
   "id": "e59c369d-4953-4bb6-8962-680d3d0d2182",
   "metadata": {
    "scrolled": true
   },
   "outputs": [
    {
     "name": "stdout",
     "output_type": "stream",
     "text": [
      "10\n",
      "20\n",
      "30\n",
      "40\n"
     ]
    }
   ],
   "source": [
    "for i in a:\n",
    "    print(i)"
   ]
  },
  {
   "cell_type": "code",
   "execution_count": 9,
   "id": "8d35539d-675e-42bf-9f1e-4686f61e57d7",
   "metadata": {
    "scrolled": true
   },
   "outputs": [
    {
     "name": "stdout",
     "output_type": "stream",
     "text": [
      "10 20 30 40 "
     ]
    }
   ],
   "source": [
    "for i in a:\n",
    "    print(i,end=\" \")"
   ]
  },
  {
   "cell_type": "code",
   "execution_count": 24,
   "id": "2d23e5e3-2015-4c73-b425-1c6a0212aa75",
   "metadata": {
    "scrolled": true
   },
   "outputs": [
    {
     "name": "stdout",
     "output_type": "stream",
     "text": [
      "Value found\n"
     ]
    }
   ],
   "source": [
    "for i in a:\n",
    "    if i==30:\n",
    "        print(\"Value found\")\n",
    "        break\n",
    "else:\n",
    "    print(\"Value not found\")"
   ]
  },
  {
   "cell_type": "markdown",
   "id": "745f3d63-a732-4529-ae95-28fe3611718f",
   "metadata": {
    "jp-MarkdownHeadingCollapsed": true
   },
   "source": [
    " for i in a:\n",
    "    if i==50:\n",
    "        print(i)\n",
    "        break"
   ]
  },
  {
   "cell_type": "code",
   "execution_count": 38,
   "id": "8fef61f5-125a-42a9-9a83-d92dd28a5b5b",
   "metadata": {
    "scrolled": true
   },
   "outputs": [
    {
     "name": "stdout",
     "output_type": "stream",
     "text": [
      "2\n"
     ]
    }
   ],
   "source": [
    "for i in range(len(a)):\n",
    "    if a[i]==30:\n",
    "        print(i)"
   ]
  },
  {
   "cell_type": "code",
   "execution_count": 40,
   "id": "6274aebd-0cf0-40c0-8a04-e371041704f6",
   "metadata": {
    "scrolled": true
   },
   "outputs": [
    {
     "name": "stdout",
     "output_type": "stream",
     "text": [
      "3\n"
     ]
    }
   ],
   "source": [
    "print(a.index(40))"
   ]
  },
  {
   "cell_type": "code",
   "execution_count": 52,
   "id": "9a602571-acde-4863-9552-1276d6bcfc5a",
   "metadata": {
    "scrolled": true
   },
   "outputs": [
    {
     "name": "stdout",
     "output_type": "stream",
     "text": [
      "[3, 8, 33, 45, 2, 5, 7, 4, 44, 5, 3, 77, 22, 6567, 7, 86, 3, 4, 53, 3322, 344, 0, 55, 8, 90]\n"
     ]
    }
   ],
   "source": [
    "b=[3,8,33,45,2,5,7,4,44,5,3,77,22,6567,7,86,3,4,53,3322,344,0,55,8,90]\n",
    "print(b)"
   ]
  },
  {
   "cell_type": "code",
   "execution_count": 54,
   "id": "f7e80fea-b5e1-4162-abcb-675dd2d0e943",
   "metadata": {
    "scrolled": true
   },
   "outputs": [
    {
     "name": "stdout",
     "output_type": "stream",
     "text": [
      "25\n"
     ]
    }
   ],
   "source": [
    "print(len(b))"
   ]
  },
  {
   "cell_type": "code",
   "execution_count": null,
   "id": "910ab1d7-229c-44b6-b3a8-cba77d7a9b07",
   "metadata": {},
   "outputs": [],
   "source": []
  },
  {
   "cell_type": "code",
   "execution_count": 62,
   "id": "08d7e2a5-545e-4507-8a18-79076e85f89a",
   "metadata": {
    "scrolled": true
   },
   "outputs": [
    {
     "data": {
      "text/plain": [
       "0"
      ]
     },
     "execution_count": 62,
     "metadata": {},
     "output_type": "execute_result"
    }
   ],
   "source": [
    "b[-4]"
   ]
  },
  {
   "cell_type": "code",
   "execution_count": 64,
   "id": "9cc94470-1d9c-451e-bdaa-fd7f3b43cd01",
   "metadata": {
    "scrolled": true
   },
   "outputs": [
    {
     "data": {
      "text/plain": [
       "90"
      ]
     },
     "execution_count": 64,
     "metadata": {},
     "output_type": "execute_result"
    }
   ],
   "source": [
    "b[-1]"
   ]
  },
  {
   "cell_type": "code",
   "execution_count": 99,
   "id": "61f2bc52-0540-4475-a00d-4daca3913163",
   "metadata": {
    "scrolled": true
   },
   "outputs": [
    {
     "name": "stdout",
     "output_type": "stream",
     "text": [
      "[1, 'ABC', 84.9, 'a', 'Niharika']\n",
      "[1, 'ABC', 84.9, 'a', 'Niharika', 'Hello', 'hey']\n",
      "[1, 'ABC', 84.9, 'a', 'Niharika', 'Hello', 'hey', 'H', 'e', 'l', 'l', 'o']\n"
     ]
    }
   ],
   "source": [
    "a=[1,\"ABC\",84.9,'a']\n",
    "a.append(\"Niharika\")\n",
    "print(a)\n",
    "a+=\"Hello\",\"hey\"\n",
    "print(a)\n",
    "a+=\"Hello\"\n",
    "print(a)"
   ]
  },
  {
   "cell_type": "code",
   "execution_count": 102,
   "id": "0780374a-5bba-4825-ad26-41e135a53d85",
   "metadata": {
    "scrolled": true
   },
   "outputs": [
    {
     "data": {
      "text/plain": [
       "['ABC', 84.9, 'a', 'Niharika', 'Hello', 'hey', 'H', 'e', 'l', 'l', 'o']"
      ]
     },
     "execution_count": 102,
     "metadata": {},
     "output_type": "execute_result"
    }
   ],
   "source": [
    "a[1:]\n"
   ]
  },
  {
   "cell_type": "code",
   "execution_count": 104,
   "id": "94aaa919-c5a7-4fb1-b4b0-a88afa51de3c",
   "metadata": {
    "scrolled": true
   },
   "outputs": [
    {
     "data": {
      "text/plain": [
       "'o'"
      ]
     },
     "execution_count": 104,
     "metadata": {},
     "output_type": "execute_result"
    }
   ],
   "source": [
    "a[-1]"
   ]
  },
  {
   "cell_type": "code",
   "execution_count": 106,
   "id": "d979d6df-9207-41d2-b0fe-a04d931e826d",
   "metadata": {
    "scrolled": true
   },
   "outputs": [
    {
     "data": {
      "text/plain": [
       "[1, 'Niharika', 'e']"
      ]
     },
     "execution_count": 106,
     "metadata": {},
     "output_type": "execute_result"
    }
   ],
   "source": [
    "a[::4]"
   ]
  },
  {
   "cell_type": "code",
   "execution_count": 108,
   "id": "f7abf511-8233-4bfd-bb46-2c5e5ada2080",
   "metadata": {
    "scrolled": true
   },
   "outputs": [
    {
     "data": {
      "text/plain": [
       "['o', 'l', 'l', 'e', 'H', 'hey', 'Hello', 'Niharika', 'a', 84.9, 'ABC', 1]"
      ]
     },
     "execution_count": 108,
     "metadata": {},
     "output_type": "execute_result"
    }
   ],
   "source": [
    "a[::-1]"
   ]
  },
  {
   "cell_type": "code",
   "execution_count": 110,
   "id": "a8950238-9891-47a8-9608-48e1d678693b",
   "metadata": {},
   "outputs": [],
   "source": [
    "student=[2,\"stu\",8.58,\"Female\",\"India\",\"2343454\"]\n"
   ]
  },
  {
   "cell_type": "code",
   "execution_count": 112,
   "id": "5d761a87-5c33-459e-aa13-c98b9c505d35",
   "metadata": {
    "scrolled": true
   },
   "outputs": [
    {
     "data": {
      "text/plain": [
       "'Female'"
      ]
     },
     "execution_count": 112,
     "metadata": {},
     "output_type": "execute_result"
    }
   ],
   "source": [
    "student[-3]"
   ]
  },
  {
   "cell_type": "code",
   "execution_count": 144,
   "id": "4466b349-a440-4b54-a7b6-492233a004b6",
   "metadata": {
    "scrolled": true
   },
   "outputs": [
    {
     "data": {
      "text/plain": [
       "['stu', 'Female', '2343454']"
      ]
     },
     "execution_count": 144,
     "metadata": {},
     "output_type": "execute_result"
    }
   ],
   "source": [
    "student[1:9:2]"
   ]
  },
  {
   "cell_type": "code",
   "execution_count": 170,
   "id": "5680e9a2-75bc-4577-ad5d-c0de0b26a09a",
   "metadata": {
    "scrolled": true
   },
   "outputs": [
    {
     "name": "stdin",
     "output_type": "stream",
     "text": [
      " 3\n"
     ]
    },
    {
     "name": "stdout",
     "output_type": "stream",
     "text": [
      "[3, 3, 3, 3, 3, 3, 3, 3, 3, 3, 3, 3, 3, 3, 3, 3, 3, 3, 3, 3, 3, 3, 3, 3, 3, 3, 3, 3, 3, 3, 3, 3, 3, 3, 3, 3, 3, 3, 3, 3, 3, 3, 3, 3, 3, 3, 3, 3, 3, 3, 3, 3, 3, 3, 3, 3, 3, 3, 3, 3, 3, 3, 3, 3, 3, 3, 3, 3, 3, 3, 3, 3, 3, 3, 3, 3, 3, 3, 3, 3, 3, 3, 3, 3, 3, 3, 3, 3, 3, 3, 3, 3, 3, 3, 3, 3, 3, 3, 3, 3]\n"
     ]
    }
   ],
   "source": [
    "\n",
    "b=int(input())\n",
    "c=[b]*100\n",
    "print(c)"
   ]
  },
  {
   "cell_type": "code",
   "execution_count": 174,
   "id": "f40061b6-51fe-4b1b-a9b1-a36b027d95f8",
   "metadata": {
    "scrolled": true
   },
   "outputs": [
    {
     "name": "stdin",
     "output_type": "stream",
     "text": [
      " 3\n"
     ]
    },
    {
     "name": "stdout",
     "output_type": "stream",
     "text": [
      "[[3, 3, 3, 3, 3, 3, 3, 3, 3, 3, 3, 3, 3, 3, 3, 3, 3, 3, 3, 3, 3, 3, 3, 3, 3, 3, 3, 3, 3, 3, 3, 3, 3, 3, 3, 3, 3, 3, 3, 3, 3, 3, 3, 3, 3, 3, 3, 3, 3, 3, 3, 3, 3, 3, 3, 3, 3, 3, 3, 3, 3, 3, 3, 3, 3, 3, 3, 3, 3, 3, 3, 3, 3, 3, 3, 3, 3, 3, 3, 3, 3, 3, 3, 3, 3, 3, 3, 3, 3, 3, 3, 3, 3, 3, 3, 3, 3, 3, 3, 3]]\n"
     ]
    }
   ],
   "source": [
    "a=[]\n",
    "b=int(input())\n",
    "a.append([b]*100)\n",
    "print(a)"
   ]
  },
  {
   "cell_type": "code",
   "execution_count": 176,
   "id": "88c396fd-b24d-4818-aab4-a55f43417389",
   "metadata": {
    "scrolled": true
   },
   "outputs": [
    {
     "name": "stdin",
     "output_type": "stream",
     "text": [
      " 5\n"
     ]
    },
    {
     "name": "stdout",
     "output_type": "stream",
     "text": [
      "[5, 5, 5, 5, 5, 5, 5, 5, 5, 5, 5, 5, 5, 5, 5, 5, 5, 5, 5, 5, 5, 5, 5, 5, 5, 5, 5, 5, 5, 5, 5, 5, 5, 5, 5, 5, 5, 5, 5, 5, 5, 5, 5, 5, 5, 5, 5, 5, 5, 5, 5, 5, 5, 5, 5, 5, 5, 5, 5, 5, 5, 5, 5, 5, 5, 5, 5, 5, 5, 5, 5, 5, 5, 5, 5, 5, 5, 5, 5, 5, 5, 5, 5, 5, 5, 5, 5, 5, 5, 5, 5, 5, 5, 5, 5, 5, 5, 5, 5, 5]\n"
     ]
    }
   ],
   "source": [
    "a=[]\n",
    "b=int(input())\n",
    "a.append(b)\n",
    "a=a*100\n",
    "print(a)"
   ]
  },
  {
   "cell_type": "code",
   "execution_count": 190,
   "id": "c82e32ac-4c39-4f95-a626-3407b98df3b9",
   "metadata": {},
   "outputs": [],
   "source": [
    "#write a python code to create a list of first 10 odd elements without using decision making statements."
   ]
  },
  {
   "cell_type": "code",
   "execution_count": 178,
   "id": "40197ad9-a1f0-4fed-8026-495f769b242c",
   "metadata": {
    "scrolled": true
   },
   "outputs": [
    {
     "name": "stdout",
     "output_type": "stream",
     "text": [
      "[1, 3, 5, 7, 9, 11, 13, 15, 17, 19]\n"
     ]
    }
   ],
   "source": [
    "n=[2*i+1 for i in range(10)]\n",
    "print(n)"
   ]
  },
  {
   "cell_type": "code",
   "execution_count": 182,
   "id": "c352a544-e77b-4e37-8aeb-19106f3d57d6",
   "metadata": {
    "scrolled": true
   },
   "outputs": [
    {
     "name": "stdout",
     "output_type": "stream",
     "text": [
      "[1, 2, 3, 4, 5, 6, 7, 8, 9, 10, 11, 12, 13, 14, 15, 16, 17, 18, 19]\n",
      "[1, 3, 5, 7, 9, 11, 13, 15, 17, 19]\n"
     ]
    }
   ],
   "source": [
    "odd=list(range(1,20))\n",
    "odd1=odd[::2]\n",
    "print(odd)\n",
    "print(odd1)"
   ]
  },
  {
   "cell_type": "code",
   "execution_count": 184,
   "id": "fb0ee584-2a45-4f31-9e81-bbd57e4a0bde",
   "metadata": {
    "scrolled": true
   },
   "outputs": [
    {
     "name": "stdout",
     "output_type": "stream",
     "text": [
      "[1, 3, 5, 7, 9, 11, 13, 15, 17, 19]\n"
     ]
    }
   ],
   "source": [
    "odd=list(range(1,20,2))\n",
    "print(odd)"
   ]
  },
  {
   "cell_type": "code",
   "execution_count": 188,
   "id": "4b258573-3992-4d46-9cfe-192f045ee974",
   "metadata": {},
   "outputs": [],
   "source": [
    "#write a python code to create a list, which extracts from the string given by the user"
   ]
  },
  {
   "cell_type": "code",
   "execution_count": 200,
   "id": "d967c483-bb99-46ac-895b-3c8d61cdbb36",
   "metadata": {
    "scrolled": true
   },
   "outputs": [
    {
     "name": "stdin",
     "output_type": "stream",
     "text": [
      " julia\n"
     ]
    },
    {
     "name": "stdout",
     "output_type": "stream",
     "text": [
      "['j', 'u', 'l', 'i', 'a']\n"
     ]
    }
   ],
   "source": [
    "n=input()\n",
    "l=list(n)\n",
    "print(l)"
   ]
  },
  {
   "cell_type": "code",
   "execution_count": null,
   "id": "4a8b89f4-2023-4302-b657-e2a8cb3b61d4",
   "metadata": {},
   "outputs": [],
   "source": []
  }
 ],
 "metadata": {
  "kernelspec": {
   "display_name": "Python 3 (ipykernel)",
   "language": "python",
   "name": "python3"
  },
  "language_info": {
   "codemirror_mode": {
    "name": "ipython",
    "version": 3
   },
   "file_extension": ".py",
   "mimetype": "text/x-python",
   "name": "python",
   "nbconvert_exporter": "python",
   "pygments_lexer": "ipython3",
   "version": "3.12.4"
  }
 },
 "nbformat": 4,
 "nbformat_minor": 5
}
