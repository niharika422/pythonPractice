{
 "cells": [
  {
   "cell_type": "code",
   "execution_count": 3,
   "id": "8ad08207-6b91-4bf5-a1fe-5834b7af3d0a",
   "metadata": {},
   "outputs": [
    {
     "name": "stdin",
     "output_type": "stream",
     "text": [
      "enter a value 3\n",
      "enter a value 3\n"
     ]
    },
    {
     "name": "stdout",
     "output_type": "stream",
     "text": [
      "sum: 6\n"
     ]
    }
   ],
   "source": [
    "def add(a,b):\n",
    "    return a+b\n",
    "num1=int(input(\"enter a value\"))\n",
    "num2=int(input(\"enter a value\"))\n",
    "total=add(num1,num2)\n",
    "print(\"sum:\",total)"
   ]
  },
  {
   "cell_type": "code",
   "execution_count": 13,
   "id": "275aabb8-014b-48d0-81bb-5887a35ab59b",
   "metadata": {},
   "outputs": [
    {
     "name": "stdin",
     "output_type": "stream",
     "text": [
      "enter a value 27\n"
     ]
    },
    {
     "name": "stdout",
     "output_type": "stream",
     "text": [
      "The number 27 is divisible by 3 \n"
     ]
    }
   ],
   "source": [
    "num=int(input(\"enter a value\"))\n",
    "if num%3==0 and num%5==0:\n",
    "    print(f\"The number {num} is divisible by both 3 and 5\")\n",
    "elif num%3==0:\n",
    "    print(f\"The number {num} is divisible by 3 \")\n",
    "elif num%5==0:\n",
    "    print(f\"The number {num} is divisible by 5 \")\n",
    "else:\n",
    "    print(f\"The number {num} is  not either divisible by 3 or 5 \")"
   ]
  },
  {
   "cell_type": "code",
   "execution_count": 17,
   "id": "2b7da35e-fa68-4943-8183-66308fe8494f",
   "metadata": {},
   "outputs": [
    {
     "name": "stdin",
     "output_type": "stream",
     "text": [
      "enter the first list of numbers 4567\n",
      "enter the second list of numbers 2457\n"
     ]
    },
    {
     "name": "stdout",
     "output_type": "stream",
     "text": [
      "Common elements: {4, 5, 7}\n"
     ]
    }
   ],
   "source": [
    "list1=(input(\"enter the first list of numbers\"))\n",
    "list2=(input(\"enter the second list of numbers\"))\n",
    "set1=set(map(int,list1))\n",
    "set2=set(map(int,list2))\n",
    "common={x for x in set1 if x in set2}\n",
    "print(f\"Common elements:\",common)"
   ]
  },
  {
   "cell_type": "code",
   "execution_count": null,
   "id": "9deaacf6-6fba-4407-9604-0552061911a7",
   "metadata": {},
   "outputs": [],
   "source": []
  }
 ],
 "metadata": {
  "kernelspec": {
   "display_name": "Python 3 (ipykernel)",
   "language": "python",
   "name": "python3"
  },
  "language_info": {
   "codemirror_mode": {
    "name": "ipython",
    "version": 3
   },
   "file_extension": ".py",
   "mimetype": "text/x-python",
   "name": "python",
   "nbconvert_exporter": "python",
   "pygments_lexer": "ipython3",
   "version": "3.12.4"
  }
 },
 "nbformat": 4,
 "nbformat_minor": 5
}
