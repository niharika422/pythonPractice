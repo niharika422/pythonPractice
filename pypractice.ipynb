{
 "cells": [
  {
   "cell_type": "code",
   "execution_count": 3,
   "id": "42815e8a-4880-4c79-9371-9baa3ec1a9a5",
   "metadata": {},
   "outputs": [],
   "source": [
    "import math"
   ]
  },
  {
   "cell_type": "code",
   "execution_count": 5,
   "id": "4ba461b6-3269-49fc-a613-bad6a53a5c62",
   "metadata": {},
   "outputs": [
    {
     "data": {
      "text/plain": [
       "2.718281828459045"
      ]
     },
     "execution_count": 5,
     "metadata": {},
     "output_type": "execute_result"
    }
   ],
   "source": [
    "math.e"
   ]
  },
  {
   "cell_type": "code",
   "execution_count": 9,
   "id": "23d32799-8dac-4c46-bca5-f0d4f9ff7b08",
   "metadata": {},
   "outputs": [
    {
     "data": {
      "text/plain": [
       "3.141592653589793"
      ]
     },
     "execution_count": 9,
     "metadata": {},
     "output_type": "execute_result"
    }
   ],
   "source": [
    "math.pi"
   ]
  },
  {
   "cell_type": "code",
   "execution_count": 11,
   "id": "3fdd5717-2eb9-4e48-8617-43d905fcdd0c",
   "metadata": {},
   "outputs": [
    {
     "data": {
      "text/plain": [
       "nan"
      ]
     },
     "execution_count": 11,
     "metadata": {},
     "output_type": "execute_result"
    }
   ],
   "source": [
    "math.nan"
   ]
  },
  {
   "cell_type": "code",
   "execution_count": 15,
   "id": "79ccaade-a997-4088-bf56-b7f96a33d559",
   "metadata": {},
   "outputs": [
    {
     "name": "stdout",
     "output_type": "stream",
     "text": [
      "314.0\n"
     ]
    }
   ],
   "source": [
    "pi=3.14\n",
    "r=10\n",
    "area=pi*r*r\n",
    "print(area)"
   ]
  },
  {
   "cell_type": "code",
   "execution_count": 19,
   "id": "435d4c2a-35b2-45fc-bb5f-3fafb73d78ee",
   "metadata": {},
   "outputs": [
    {
     "data": {
      "text/plain": [
       "2337.5"
      ]
     },
     "execution_count": 19,
     "metadata": {},
     "output_type": "execute_result"
    }
   ],
   "source": [
    "pa=5000\n",
    "r=8.5\n",
    "t=5.5\n",
    "si=(pa*r*t)/100\n",
    "si"
   ]
  },
  {
   "cell_type": "code",
   "execution_count": 21,
   "id": "96841359-b639-4151-a36c-35c09c7ddfdd",
   "metadata": {},
   "outputs": [
    {
     "data": {
      "text/plain": [
       "complex"
      ]
     },
     "execution_count": 21,
     "metadata": {},
     "output_type": "execute_result"
    }
   ],
   "source": [
    "a=7+8j\n",
    "type(a)"
   ]
  },
  {
   "cell_type": "code",
   "execution_count": 25,
   "id": "746288c9-3142-489a-9d41-0e3ebdcd9cfe",
   "metadata": {},
   "outputs": [
    {
     "name": "stdout",
     "output_type": "stream",
     "text": [
      "(10.1+14j)\n"
     ]
    }
   ],
   "source": [
    "a=7+8j\n",
    "b=3.1+6j\n",
    "print(a+b)\n"
   ]
  },
  {
   "cell_type": "code",
   "execution_count": 33,
   "id": "88015059-3f1c-47c8-8b1c-9ba4d88246c0",
   "metadata": {},
   "outputs": [
    {
     "name": "stdout",
     "output_type": "stream",
     "text": [
      "False\n",
      "True\n",
      "False\n"
     ]
    }
   ],
   "source": [
    "x=5\n",
    "y=0\n",
    "z=9\n",
    "print(y>z)\n",
    "print(x<z)\n",
    "print(y==z)\n"
   ]
  },
  {
   "cell_type": "code",
   "execution_count": 35,
   "id": "d3d7feae-a4ef-4f10-8b83-ab12ff4032e3",
   "metadata": {},
   "outputs": [
    {
     "data": {
      "text/plain": [
       "str"
      ]
     },
     "execution_count": 35,
     "metadata": {},
     "output_type": "execute_result"
    }
   ],
   "source": [
    "c=\"lady_bug\"\n",
    "type(c)"
   ]
  },
  {
   "cell_type": "code",
   "execution_count": 41,
   "id": "f7d3acb2-09b0-4c19-a59f-198a3ec56acb",
   "metadata": {},
   "outputs": [
    {
     "name": "stdout",
     "output_type": "stream",
     "text": [
      "Welcome to srt\n"
     ]
    }
   ],
   "source": [
    "str=\"Welcome to srt\"\n",
    "print(str)"
   ]
  },
  {
   "cell_type": "code",
   "execution_count": 47,
   "id": "464c4727-44ca-45df-84cc-91ea2f6eb7e1",
   "metadata": {},
   "outputs": [
    {
     "name": "stdout",
     "output_type": "stream",
     "text": [
      "\"Yes\",he said.\n"
     ]
    }
   ],
   "source": [
    "print('\"Yes\",he said.')\n"
   ]
  },
  {
   "cell_type": "code",
   "execution_count": 49,
   "id": "560cd4f4-aabf-46ff-acd5-ff60d61061cb",
   "metadata": {},
   "outputs": [
    {
     "name": "stdout",
     "output_type": "stream",
     "text": [
      "'\"Yes\",he said.'\n"
     ]
    }
   ],
   "source": [
    "print('\\'\"Yes\",he said.\\'')"
   ]
  },
  {
   "cell_type": "code",
   "execution_count": 53,
   "id": "3a4123ee-f4f1-42a7-87e3-56e57a2ecf73",
   "metadata": {},
   "outputs": [
    {
     "name": "stdout",
     "output_type": "stream",
     "text": [
      "First line.\n",
      " Second line.\n"
     ]
    }
   ],
   "source": [
    "s=\"First line.\\n Second line.\"\n",
    "print(s)"
   ]
  },
  {
   "cell_type": "raw",
   "id": "92f617e3-a12d-4d0a-bbf6-3511f1be834b",
   "metadata": {},
   "source": [
    "print('C:\\some\\name')"
   ]
  },
  {
   "cell_type": "code",
   "execution_count": 59,
   "id": "456f5f79-5014-4522-bc0e-8176ad9adb51",
   "metadata": {},
   "outputs": [
    {
     "name": "stdout",
     "output_type": "stream",
     "text": [
      "C:\\some\n",
      "ame\n"
     ]
    },
    {
     "name": "stderr",
     "output_type": "stream",
     "text": [
      "<>:1: SyntaxWarning: invalid escape sequence '\\s'\n",
      "<>:1: SyntaxWarning: invalid escape sequence '\\s'\n",
      "C:\\Users\\Niharika Raghavendra\\AppData\\Local\\Temp\\ipykernel_10460\\3441249919.py:1: SyntaxWarning: invalid escape sequence '\\s'\n",
      "  print('C:\\some\\name')\n"
     ]
    }
   ],
   "source": [
    "print('C:\\some\\name')"
   ]
  },
  {
   "cell_type": "code",
   "execution_count": 85,
   "id": "adf0ab46-32db-4cbb-bb3a-2689ef0c84b9",
   "metadata": {},
   "outputs": [
    {
     "name": "stdout",
     "output_type": "stream",
     "text": [
      "<class 'str'>\n",
      "<class 'int'>\n",
      "<class 'str'>\n",
      "12-AUG-2024\n",
      "20\n"
     ]
    }
   ],
   "source": [
    "name=(\"selvi\")\n",
    "print(type(name))\n",
    "DOB=(\"12-AUG-2024\")\n",
    "age=int(20)\n",
    "print(type(age))\n",
    "print(type(DOB))\n",
    "print(DOB)\n",
    "print(age)"
   ]
  },
  {
   "cell_type": "code",
   "execution_count": 89,
   "id": "5ee5fc1b-0607-4c97-8df4-370a873bb357",
   "metadata": {},
   "outputs": [
    {
     "name": "stdout",
     "output_type": "stream",
     "text": [
      "18\n",
      "<class 'int'>\n"
     ]
    }
   ],
   "source": [
    "voting_age=int(\"18\")\n",
    "print(voting_age)\n",
    "print(type(voting_age))"
   ]
  },
  {
   "cell_type": "code",
   "execution_count": 99,
   "id": "a8c7337e-b058-4551-b73d-a87777cae257",
   "metadata": {},
   "outputs": [
    {
     "name": "stdout",
     "output_type": "stream",
     "text": [
      "1.0\n",
      "5\n",
      "(1+0j)\n",
      "5.0\n"
     ]
    }
   ],
   "source": [
    "i=1\n",
    "j=5.5\n",
    "k=6j\n",
    "s=float(i)\n",
    "print(s)\n",
    "k=int(j)\n",
    "print(k)\n",
    "c=complex(i)\n",
    "print(c)\n",
    "m=float(k)\n",
    "print(m)"
   ]
  },
  {
   "cell_type": "code",
   "execution_count": 13,
   "id": "83fb96c3-21dd-43e5-8ca7-2546c71f503e",
   "metadata": {},
   "outputs": [
    {
     "name": "stdout",
     "output_type": "stream",
     "text": [
      "130\n"
     ]
    }
   ],
   "source": [
    "a=150\n",
    "b=20\n",
    "print(a^b)\n"
   ]
  },
  {
   "cell_type": "code",
   "execution_count": 15,
   "id": "c7231500-8bac-4550-a520-b329625d09e9",
   "metadata": {},
   "outputs": [
    {
     "data": {
      "text/plain": [
       "3.1965897777777776"
      ]
     },
     "execution_count": 15,
     "metadata": {},
     "output_type": "execute_result"
    }
   ],
   "source": [
    "pi=3.14\n",
    "r=3.05\n",
    "angle=60.08\n",
    "circle=2*pi*r*(angle/360)\n",
    "circle"
   ]
  },
  {
   "cell_type": "code",
   "execution_count": 33,
   "id": "78cf0291-234f-48da-80cb-fc92beed911a",
   "metadata": {},
   "outputs": [
    {
     "name": "stdin",
     "output_type": "stream",
     "text": [
      " 4\n",
      " 5\n"
     ]
    },
    {
     "name": "stdout",
     "output_type": "stream",
     "text": [
      "<built-in function sqrt>\n"
     ]
    }
   ],
   "source": [
    "import math\n",
    "side1=int(input())\n",
    "side2=int(input())\n",
    "hypo=math.sqrt\n",
    "((side1**2)+(side2**2))\n",
    "print(hypo)"
   ]
  },
  {
   "cell_type": "code",
   "execution_count": 27,
   "id": "da97515a-de25-4394-bcf2-aa84f856c38c",
   "metadata": {},
   "outputs": [
    {
     "name": "stdin",
     "output_type": "stream",
     "text": [
      " 4\n",
      " 5\n"
     ]
    },
    {
     "name": "stdout",
     "output_type": "stream",
     "text": [
      "41\n"
     ]
    }
   ],
   "source": [
    "import math\n",
    "side1=int(input())\n",
    "side2=int(input())\n",
    "cal=(side1*side1)+(side2*side2)\n",
    "out=math.sqrt(cal)\n",
    "print(cal)"
   ]
  },
  {
   "cell_type": "code",
   "execution_count": 37,
   "id": "ab3e4581-20af-489e-9053-ec7ceb8a964e",
   "metadata": {},
   "outputs": [
    {
     "name": "stdout",
     "output_type": "stream",
     "text": [
      "0\n",
      "False\n"
     ]
    }
   ],
   "source": [
    "a=10\n",
    "b=20\n",
    "c=0 and 20\n",
    "d=5>4 and 3<2\n",
    "print(c)\n",
    "print(d)"
   ]
  },
  {
   "cell_type": "code",
   "execution_count": 39,
   "id": "6fcae2d4-51ce-4871-8f27-da81b68f7ce8",
   "metadata": {},
   "outputs": [
    {
     "name": "stdout",
     "output_type": "stream",
     "text": [
      "20\n",
      "False\n"
     ]
    }
   ],
   "source": [
    "a=10\n",
    "b=20\n",
    "c=0 or 20\n",
    "d=5>4 and 3<2\n",
    "print(c)\n",
    "print(d)"
   ]
  },
  {
   "cell_type": "code",
   "execution_count": 31,
   "id": "ecffbd35-66f2-44f9-8365-9a705bcfa390",
   "metadata": {},
   "outputs": [
    {
     "name": "stdout",
     "output_type": "stream",
     "text": [
      "* \n",
      "* * \n",
      "* * * \n",
      "* * * * \n",
      "* * * * * \n"
     ]
    }
   ],
   "source": [
    "\n",
    "for i in range(0,5):\n",
    "    for j in range(0,i+1):\n",
    "        print(\"*\",end= \" \")\n",
    "    print()\n",
    "\n"
   ]
  },
  {
   "cell_type": "code",
   "execution_count": 51,
   "id": "6cf86038-9ad8-47e5-89a0-6bd532620ba2",
   "metadata": {},
   "outputs": [
    {
     "name": "stdout",
     "output_type": "stream",
     "text": [
      "1 \n",
      "2 2 \n",
      "3 3 3 \n",
      "4 4 4 4 \n",
      "5 5 5 5 5 \n"
     ]
    }
   ],
   "source": [
    "for i in range(1,6):\n",
    "    for j in range(1,i+1):\n",
    "        print(i,end= \" \")\n",
    "    print()\n"
   ]
  },
  {
   "cell_type": "code",
   "execution_count": 53,
   "id": "c9bd6599-d711-4e83-99a6-f34ca9b179fe",
   "metadata": {},
   "outputs": [
    {
     "name": "stdout",
     "output_type": "stream",
     "text": [
      "5 5 5 5 5 \n",
      "4 4 4 4 \n",
      "3 3 3 \n",
      "2 2 \n",
      "1 \n"
     ]
    }
   ],
   "source": [
    "for i in range(5,0,-1):\n",
    "    for j in range(1,i+1):\n",
    "        print(i,end= \" \")\n",
    "    print()\n"
   ]
  },
  {
   "cell_type": "code",
   "execution_count": 55,
   "id": "a58e0c8a-c630-49be-86c2-6d2f74856a73",
   "metadata": {},
   "outputs": [
    {
     "name": "stdout",
     "output_type": "stream",
     "text": [
      "* * * * * \n",
      "* * * * \n",
      "* * * \n",
      "* * \n",
      "* \n"
     ]
    }
   ],
   "source": [
    "for i in range(5,0,-1):\n",
    "    for j in range(1,i+1):\n",
    "        print(\"*\",end= \" \")\n",
    "    print()\n"
   ]
  },
  {
   "cell_type": "code",
   "execution_count": 59,
   "id": "a029e6aa-12d6-41b7-992e-1e897ed5d273",
   "metadata": {},
   "outputs": [
    {
     "name": "stdout",
     "output_type": "stream",
     "text": [
      "\n",
      "1 \n",
      "1 2 \n",
      "1 2 3 \n",
      "1 2 3 4 \n"
     ]
    }
   ],
   "source": [
    "for i in range(0,5):\n",
    "    for j in range(1,i+1):\n",
    "        print(j,end= \" \")\n",
    "    print()\n"
   ]
  },
  {
   "cell_type": "code",
   "execution_count": 71,
   "id": "7f2cf6f9-9fc6-4213-b545-bd94571a73db",
   "metadata": {},
   "outputs": [],
   "source": [
    "for i in range(5,0):\n",
    "    for j in range(1,i+1):\n",
    "        print(i,end= \" \")\n",
    "    print()\n"
   ]
  },
  {
   "cell_type": "code",
   "execution_count": 75,
   "id": "a14879e5-d1c3-4d70-8b33-11cd385f1f08",
   "metadata": {},
   "outputs": [
    {
     "name": "stdout",
     "output_type": "stream",
     "text": [
      "5 5 5 5 5 5 \n",
      "4 4 4 4 4 \n",
      "3 3 3 3 \n",
      "2 2 2 \n",
      "1 1 \n"
     ]
    }
   ],
   "source": [
    "for i in range(5,0,-1):\n",
    "    for j in range(1,i+2):\n",
    "        print(i,end= \" \")\n",
    "    print()"
   ]
  },
  {
   "cell_type": "code",
   "execution_count": 1,
   "id": "051d69bd-ba9a-49aa-8a12-64e7c48e7aeb",
   "metadata": {},
   "outputs": [
    {
     "name": "stdin",
     "output_type": "stream",
     "text": [
      " 4\n",
      " 10\n"
     ]
    }
   ],
   "source": [
    "a=int(input())\n",
    "b=int(input())\n",
    "i=0\n",
    "while :\n",
    "    print()"
   ]
  },
  {
   "cell_type": "code",
   "execution_count": 3,
   "id": "1df65cfa-2581-4f11-98e9-4862441cd70a",
   "metadata": {},
   "outputs": [
    {
     "name": "stdin",
     "output_type": "stream",
     "text": [
      " 4\n",
      " 7\n"
     ]
    },
    {
     "name": "stdout",
     "output_type": "stream",
     "text": [
      "xx\n"
     ]
    }
   ],
   "source": [
    "a=int(input())\n",
    "b=int(input())\n",
    "if(a>=b):\n",
    "    c=b\n",
    "    while c>=b:\n",
    "        print(c)\n",
    "    c+=1\n",
    "print(\"xx\")"
   ]
  },
  {
   "cell_type": "code",
   "execution_count": 7,
   "id": "22187808-a380-4b7c-9d68-e37765bb1d88",
   "metadata": {},
   "outputs": [
    {
     "name": "stdin",
     "output_type": "stream",
     "text": [
      " 5\n",
      " 3\n"
     ]
    },
    {
     "name": "stdout",
     "output_type": "stream",
     "text": [
      "\n"
     ]
    }
   ],
   "source": [
    "a=int(input())\n",
    "b=int(input())\n",
    "for i in range(a,b):\n",
    "    if(a>=b):\n",
    "        print(i)\n",
    "print()"
   ]
  },
  {
   "cell_type": "code",
   "execution_count": 1,
   "id": "e5b0f88d-528a-40e6-9283-9f47f3362807",
   "metadata": {},
   "outputs": [
    {
     "name": "stdin",
     "output_type": "stream",
     "text": [
      " 505\n"
     ]
    },
    {
     "name": "stdout",
     "output_type": "stream",
     "text": [
      "3\n"
     ]
    }
   ],
   "source": [
    "x=int(input())\n",
    "z=str(x)\n",
    "dig=0\n",
    "for i in z:\n",
    "    dig+=1\n",
    "print(dig)"
   ]
  },
  {
   "cell_type": "code",
   "execution_count": 7,
   "id": "476a05f3-d337-46cd-b3bc-2f8bdf55836a",
   "metadata": {},
   "outputs": [
    {
     "name": "stdin",
     "output_type": "stream",
     "text": [
      " 5004\n"
     ]
    },
    {
     "name": "stdout",
     "output_type": "stream",
     "text": [
      "4\n"
     ]
    }
   ],
   "source": [
    "x=str(input())\n",
    "a=len(x)\n",
    "print(a)"
   ]
  },
  {
   "cell_type": "code",
   "execution_count": 9,
   "id": "ff148ab9-8a1f-4d6d-8b19-1bac3ac59f19",
   "metadata": {},
   "outputs": [
    {
     "name": "stdin",
     "output_type": "stream",
     "text": [
      " 5\n",
      " 5\n"
     ]
    },
    {
     "name": "stdout",
     "output_type": "stream",
     "text": [
      "5 * 1 = 5\n",
      "5 * 2 = 10\n",
      "5 * 3 = 15\n",
      "5 * 4 = 20\n",
      "5 * 5 = 25\n"
     ]
    }
   ],
   "source": [
    "n=int(input())\n",
    "m=int(input())\n",
    "i=1\n",
    "while i<=m:\n",
    "    res=n*i\n",
    "    print(n,\"*\",i,\"=\",res)\n",
    "    i+=1"
   ]
  },
  {
   "cell_type": "code",
   "execution_count": 1,
   "id": "ce47b6c9-62c5-4c6e-86d5-878d47532ac3",
   "metadata": {},
   "outputs": [
    {
     "name": "stdin",
     "output_type": "stream",
     "text": [
      " 5\n"
     ]
    }
   ],
   "source": [
    "x=input()"
   ]
  },
  {
   "cell_type": "code",
   "execution_count": 3,
   "id": "af990f9e-c96b-4a59-9466-f155240e29f8",
   "metadata": {},
   "outputs": [
    {
     "data": {
      "text/plain": [
       "str"
      ]
     },
     "execution_count": 3,
     "metadata": {},
     "output_type": "execute_result"
    }
   ],
   "source": [
    "type(x)\n"
   ]
  },
  {
   "cell_type": "code",
   "execution_count": 11,
   "id": "6ed0d284-c1a5-43b9-a121-fa6212da0369",
   "metadata": {},
   "outputs": [
    {
     "name": "stdin",
     "output_type": "stream",
     "text": [
      "hello 6\n",
      " 6\n"
     ]
    },
    {
     "name": "stdout",
     "output_type": "stream",
     "text": [
      "strings are equal\n"
     ]
    }
   ],
   "source": [
    "x=input()\n",
    "y=input()\n",
    "if x==y:\n",
    "    print(\"strings are equal\")\n",
    "else:\n",
    "    print(\"strings are not equal\")"
   ]
  },
  {
   "cell_type": "code",
   "execution_count": 9,
   "id": "8b8b10cf-39fe-449a-bdb6-ec9b5ffa93e6",
   "metadata": {},
   "outputs": [
    {
     "name": "stdin",
     "output_type": "stream",
     "text": [
      " 49\n"
     ]
    },
    {
     "name": "stdout",
     "output_type": "stream",
     "text": [
      "yes\n"
     ]
    }
   ],
   "source": [
    "n=int(input())\n",
    "if n%7==0:\n",
    "    print(\"yes\")\n",
    "else:\n",
    "    print(\"no\")"
   ]
  },
  {
   "cell_type": "code",
   "execution_count": 63,
   "id": "432569ab-98c7-49e0-adb2-9783c3fd50f1",
   "metadata": {},
   "outputs": [
    {
     "name": "stdin",
     "output_type": "stream",
     "text": [
      " 2\n",
      " 11\n",
      " 5\n"
     ]
    },
    {
     "name": "stdout",
     "output_type": "stream",
     "text": [
      "no\n"
     ]
    }
   ],
   "source": [
    "l=int(input())\n",
    "n=int(input())\n",
    "r=int(input())\n",
    "if(n<=l and n>=r):\n",
    "    print(\"yes\")\n",
    "elif(n<=r and n>=l):\n",
    "    print(\"yes\")\n",
    "else:\n",
    "    print(\"no\")  "
   ]
  },
  {
   "cell_type": "code",
   "execution_count": 15,
   "id": "41916749-3f03-49b7-be45-dc725c823168",
   "metadata": {},
   "outputs": [
    {
     "name": "stdin",
     "output_type": "stream",
     "text": [
      " 4000\n",
      " 30.2\n",
      " 30000\n"
     ]
    }
   ],
   "source": [
    "hostel=int(input())\n",
    "loan=float(input())\n",
    "sal=int(input())\n"
   ]
  },
  {
   "cell_type": "code",
   "execution_count": 9,
   "id": "7e6cff72-ac5e-4ef4-b743-81b608487f92",
   "metadata": {},
   "outputs": [
    {
     "name": "stdin",
     "output_type": "stream",
     "text": [
      " 70\n",
      " 40\n",
      " 55\n"
     ]
    },
    {
     "name": "stdout",
     "output_type": "stream",
     "text": [
      "sec:  55\n"
     ]
    }
   ],
   "source": [
    "a=int(input())\n",
    "b=int(input())\n",
    "c=int(input())\n",
    "if a>b and a>c:\n",
    "    if(b>c):\n",
    "        print(\"sec: \",b)\n",
    "    else:\n",
    "        print(\"sec: \",c)\n",
    "elif b>a and b>c:\n",
    "    if c>a:\n",
    "        print(\"sec: \",c)\n",
    "    else:\n",
    "        print(\"sec: \",a)"
   ]
  },
  {
   "cell_type": "code",
   "execution_count": 3,
   "id": "b0d46552-d010-40f2-b4a7-b8af3440f905",
   "metadata": {},
   "outputs": [
    {
     "name": "stdout",
     "output_type": "stream",
     "text": [
      "[[1, 2], ['a', 'b', [11.2, 3]]]\n"
     ]
    }
   ],
   "source": [
    "x=[[1,2],['a','b',[11.2,3]]]\n",
    "print(x)"
   ]
  },
  {
   "cell_type": "code",
   "execution_count": 31,
   "id": "f3d9818f-57b6-43e3-adc6-2db0ac320f88",
   "metadata": {},
   "outputs": [
    {
     "name": "stdout",
     "output_type": "stream",
     "text": [
      "[12.5]\n"
     ]
    }
   ],
   "source": [
    "a=[1,12.5,'a',\"python\"]\n",
    "print(a[1:2:3])"
   ]
  },
  {
   "cell_type": "code",
   "execution_count": 37,
   "id": "0d424eda-1d62-4d0c-b06f-3c8733042a64",
   "metadata": {},
   "outputs": [
    {
     "data": {
      "text/plain": [
       "['p', 'y', 't', 'h', 'o', 'n']"
      ]
     },
     "execution_count": 37,
     "metadata": {},
     "output_type": "execute_result"
    }
   ],
   "source": [
    "a=list(\"python\")\n",
    "a"
   ]
  },
  {
   "cell_type": "code",
   "execution_count": 39,
   "id": "8e0ccb88-7ec4-4b14-804a-17a76f598d87",
   "metadata": {},
   "outputs": [
    {
     "name": "stdout",
     "output_type": "stream",
     "text": [
      "[1, 2, 3, 4]\n",
      "1\n",
      "[2, 3, 4]\n"
     ]
    }
   ],
   "source": [
    "num=[1,2,3,4]\n",
    "print(num)\n",
    "a,*other=num\n",
    "print(a)\n",
    "print(other)"
   ]
  },
  {
   "cell_type": "code",
   "execution_count": null,
   "id": "b8384676-2f19-42e9-8901-d8d17ab7536f",
   "metadata": {},
   "outputs": [],
   "source": [
    "2) write a program to perform the following operation\n",
    ">take the 2 user inp values for the fav col and decimal num respectively\n",
    ">convert the decimal value into int\n",
    ">print a msg that displays users fav col and square of a num"
   ]
  },
  {
   "cell_type": "code",
   "execution_count": null,
   "id": "eba0a92c-e606-4ab9-8c1d-ef44ce157f55",
   "metadata": {},
   "outputs": [],
   "source": [
    "3) swaping of 2 nums \n",
    ">using 3rd var\n",
    ">without 3rd var"
   ]
  },
  {
   "cell_type": "code",
   "execution_count": 45,
   "id": "d153c12c-467b-4b0f-ad3b-081df0fa54d8",
   "metadata": {},
   "outputs": [
    {
     "name": "stdout",
     "output_type": "stream",
     "text": [
      "w r aasinit\n"
     ]
    }
   ],
   "source": [
    "x=\"we are data scientist\"\n",
    "print(x[::2])"
   ]
  },
  {
   "cell_type": "code",
   "execution_count": 5,
   "id": "3831d5da-99a9-4391-902c-17e513c44340",
   "metadata": {},
   "outputs": [
    {
     "name": "stdout",
     "output_type": "stream",
     "text": [
      "10.0\n"
     ]
    }
   ],
   "source": [
    "x=10\n",
    "y=float(x)\n",
    "print(y)"
   ]
  },
  {
   "cell_type": "code",
   "execution_count": 7,
   "id": "88dfe4bb-1dc7-4074-a3af-58b2b59ef3b2",
   "metadata": {},
   "outputs": [
    {
     "name": "stdout",
     "output_type": "stream",
     "text": [
      "20.0\n"
     ]
    }
   ],
   "source": [
    "x=\"20\"\n",
    "y=float(x)\n",
    "print(y)"
   ]
  },
  {
   "cell_type": "code",
   "execution_count": 13,
   "id": "c05590aa-7042-45cf-b41a-e13fe0a3dd49",
   "metadata": {},
   "outputs": [
    {
     "name": "stdout",
     "output_type": "stream",
     "text": [
      "1.0\n"
     ]
    }
   ],
   "source": [
    "x=True\n",
    "y=float(x)\n",
    "print(y)"
   ]
  },
  {
   "cell_type": "code",
   "execution_count": 21,
   "id": "97910870-6393-4b6d-96a2-356d8726ad2e",
   "metadata": {},
   "outputs": [
    {
     "name": "stdout",
     "output_type": "stream",
     "text": [
      "(2+0j) <class 'complex'>\n"
     ]
    }
   ],
   "source": [
    "y=2\n",
    "x=complex(y)\n",
    "print(x,type(x))"
   ]
  },
  {
   "cell_type": "code",
   "execution_count": 23,
   "id": "e7f4e548-8a97-4ced-a13d-bc931df236ac",
   "metadata": {},
   "outputs": [
    {
     "name": "stdout",
     "output_type": "stream",
     "text": [
      "(2+0j) <class 'complex'>\n"
     ]
    }
   ],
   "source": [
    "y=complex(7.7)\n",
    "print(x,type(x))"
   ]
  },
  {
   "cell_type": "code",
   "execution_count": 3,
   "id": "8d487021-51ad-4b9b-8d76-085357588840",
   "metadata": {},
   "outputs": [
    {
     "name": "stdout",
     "output_type": "stream",
     "text": [
      "5\n"
     ]
    }
   ],
   "source": [
    "tuple=('develpoer',5,8.9,'r',8)\n",
    "print(len(tuple)"
   ]
  },
  {
   "cell_type": "code",
   "execution_count": 7,
   "id": "2a562f15-2557-476e-a2e8-30720b3786da",
   "metadata": {},
   "outputs": [
    {
     "name": "stdout",
     "output_type": "stream",
     "text": [
      "89\n"
     ]
    }
   ],
   "source": [
    "tuple1=(9,5,89,4,8)\n",
    "print(max(tuple1))"
   ]
  },
  {
   "cell_type": "code",
   "execution_count": 9,
   "id": "6e89c18d-ed7d-41a4-aadf-0031ab350e0b",
   "metadata": {},
   "outputs": [
    {
     "name": "stdout",
     "output_type": "stream",
     "text": [
      "4\n"
     ]
    }
   ],
   "source": [
    "tuple1=(9,5,89,4,8)\n",
    "print(min(tuple1))"
   ]
  },
  {
   "cell_type": "code",
   "execution_count": 11,
   "id": "2484855b-eced-4ddb-b0bc-fb4d09db92b9",
   "metadata": {},
   "outputs": [
    {
     "name": "stdout",
     "output_type": "stream",
     "text": [
      "115\n"
     ]
    }
   ],
   "source": [
    "tuple1=(9,5,89,4,8)\n",
    "print(sum(tuple1))"
   ]
  },
  {
   "cell_type": "code",
   "execution_count": 17,
   "id": "94234dbf-53a3-408d-bf46-a78b713f5bf7",
   "metadata": {},
   "outputs": [
    {
     "name": "stdout",
     "output_type": "stream",
     "text": [
      "[4, 5, 8, 9, 89]\n"
     ]
    }
   ],
   "source": [
    "tuple1=(9,5,89,4,8)\n",
    "print(sorted(tuple1))"
   ]
  },
  {
   "cell_type": "code",
   "execution_count": 19,
   "id": "3e44b26c-2e16-45d1-8a69-702f78b28b7f",
   "metadata": {},
   "outputs": [
    {
     "name": "stdout",
     "output_type": "stream",
     "text": [
      "True\n"
     ]
    }
   ],
   "source": [
    "tuple1=(9,5,89,4,8)\n",
    "print(any(tuple1))"
   ]
  },
  {
   "cell_type": "code",
   "execution_count": 27,
   "id": "382227ae-aa95-4613-8800-c1c617b07995",
   "metadata": {},
   "outputs": [
    {
     "name": "stdout",
     "output_type": "stream",
     "text": [
      "True\n"
     ]
    }
   ],
   "source": [
    "tuple1=(9,5,89,4,8)\n",
    "print(all(tuple1))"
   ]
  },
  {
   "cell_type": "code",
   "execution_count": 29,
   "id": "665ee65c-44b3-4b0c-ac8a-1868246a143d",
   "metadata": {},
   "outputs": [
    {
     "name": "stdout",
     "output_type": "stream",
     "text": [
      "False\n"
     ]
    }
   ],
   "source": [
    "tuple1=(9,5,89,0)\n",
    "print(all(tuple1))"
   ]
  },
  {
   "cell_type": "code",
   "execution_count": 31,
   "id": "e97e27f4-9fd6-4eb4-bc31-cd5438feec51",
   "metadata": {},
   "outputs": [
    {
     "name": "stdout",
     "output_type": "stream",
     "text": [
      "True\n"
     ]
    }
   ],
   "source": [
    "tuple1=()\n",
    "print(all(tuple1))"
   ]
  },
  {
   "cell_type": "code",
   "execution_count": 33,
   "id": "fd1dd5f4-5282-418a-9124-8eea85c8a404",
   "metadata": {},
   "outputs": [
    {
     "name": "stdout",
     "output_type": "stream",
     "text": [
      "False\n"
     ]
    }
   ],
   "source": [
    "tuple1=()\n",
    "print(any(tuple1))"
   ]
  },
  {
   "cell_type": "code",
   "execution_count": 35,
   "id": "33053d54-16c1-4c79-aff1-691cd62caafc",
   "metadata": {},
   "outputs": [
    {
     "name": "stdout",
     "output_type": "stream",
     "text": [
      "True\n"
     ]
    }
   ],
   "source": [
    "tuple1=(0,1)\n",
    "print(any(tuple1))"
   ]
  },
  {
   "cell_type": "code",
   "execution_count": 43,
   "id": "4e21f3c8-80ce-459a-8c50-4190566abb77",
   "metadata": {},
   "outputs": [
    {
     "name": "stdout",
     "output_type": "stream",
     "text": [
      "True\n"
     ]
    }
   ],
   "source": [
    "tuple1=(5,7)\n",
    "print(any(tuple1))"
   ]
  },
  {
   "cell_type": "code",
   "execution_count": 63,
   "id": "b82524d6-0796-441f-b0e7-ecc96bf34072",
   "metadata": {},
   "outputs": [
    {
     "name": "stdout",
     "output_type": "stream",
     "text": [
      "apple\n",
      "pie\n",
      "byte\n"
     ]
    }
   ],
   "source": [
    "tuple=(\"apple\",\"pie\",\"byte\")\n",
    "for i in tuple:\n",
    "    print(i)"
   ]
  },
  {
   "cell_type": "code",
   "execution_count": 81,
   "id": "5241362f-6bad-45f4-967e-f51e7c4e5b46",
   "metadata": {},
   "outputs": [
    {
     "name": "stdout",
     "output_type": "stream",
     "text": [
      "apple\n",
      "pie\n"
     ]
    }
   ],
   "source": [
    "tuple=(\"apple\",\"pie\",\"byte\")\n",
    "n=2\n",
    "for i in range(n):\n",
    "    print(tuple[i])"
   ]
  },
  {
   "cell_type": "code",
   "execution_count": 107,
   "id": "ea8f5b06-8c7a-4c06-bd04-5e01ce13ff04",
   "metadata": {},
   "outputs": [
    {
     "name": "stdout",
     "output_type": "stream",
     "text": [
      "apple\n",
      "pie\n"
     ]
    }
   ],
   "source": [
    "tuple=(\"apple\",\"pie\",\"byte\")\n",
    "n=3\n",
    "for i in range(n):\n",
    "    print(tuple[i])\n",
    "    if i==1:\n",
    "        break\n",
    "    #break"
   ]
  },
  {
   "cell_type": "code",
   "execution_count": 163,
   "id": "5d1c03c8-73b0-44c6-8c72-26b2dd012665",
   "metadata": {},
   "outputs": [
    {
     "name": "stdout",
     "output_type": "stream",
     "text": [
      "(('hello',),)\n",
      "(('hello',),)\n",
      "(('hello',),)\n"
     ]
    }
   ],
   "source": [
    "tuple=('hello')\n",
    "n=3\n",
    "for i in range(int(n)):\n",
    "    tuple=(y,)\n",
    "    print(tuple)"
   ]
  },
  {
   "cell_type": "code",
   "execution_count": 17,
   "id": "27066d78-dd11-4b95-a455-7abfaf8ec4a6",
   "metadata": {},
   "outputs": [
    {
     "name": "stdout",
     "output_type": "stream",
     "text": [
      "Hello\n"
     ]
    },
    {
     "data": {
      "text/plain": [
       "str"
      ]
     },
     "execution_count": 17,
     "metadata": {},
     "output_type": "execute_result"
    }
   ],
   "source": [
    "tuple=('Hello')\n",
    "print(tuple)\n",
    "type(tuple)"
   ]
  },
  {
   "cell_type": "code",
   "execution_count": 19,
   "id": "ceba1fdd-fbe5-479e-ae49-b54893e05eda",
   "metadata": {},
   "outputs": [
    {
     "name": "stdout",
     "output_type": "stream",
     "text": [
      "(26, 45, 'hello', 6, 4.5, 'python')\n"
     ]
    }
   ],
   "source": [
    "v=(26,45,'hello')\n",
    "v2=6,4.5,'python'\n",
    "print(v+v2)"
   ]
  },
  {
   "cell_type": "code",
   "execution_count": 23,
   "id": "53de27e2-a1fd-4a5a-a170-581b8db8283d",
   "metadata": {},
   "outputs": [
    {
     "name": "stdout",
     "output_type": "stream",
     "text": [
      "((26, 45, 'hello'), (6, 4.5, 'python'))\n"
     ]
    }
   ],
   "source": [
    "v=(26,45,'hello')\n",
    "v2=6,4.5,'python'\n",
    "v3=v,v2\n",
    "print(v3)"
   ]
  },
  {
   "cell_type": "code",
   "execution_count": 25,
   "id": "20db198b-ec6f-4ea3-93b6-71c70b042bb9",
   "metadata": {},
   "outputs": [
    {
     "name": "stdout",
     "output_type": "stream",
     "text": [
      "(26, 45, 'hello', 26, 45, 'hello')\n"
     ]
    }
   ],
   "source": [
    "#repetion\n",
    "v=(26,45,'hello')*2\n",
    "print(v)"
   ]
  },
  {
   "cell_type": "code",
   "execution_count": 31,
   "id": "2cb96091-1301-4872-9f9f-bc4657c2346a",
   "metadata": {},
   "outputs": [
    {
     "name": "stdout",
     "output_type": "stream",
     "text": [
      "(26, 45, 'hello')\n"
     ]
    }
   ],
   "source": [
    "v=(26,45,'hello',7.5)\n",
    "print(v[:3])"
   ]
  },
  {
   "cell_type": "code",
   "execution_count": 33,
   "id": "eda3a5d2-e8b1-41ba-a90c-b2112d4eca11",
   "metadata": {},
   "outputs": [
    {
     "name": "stdout",
     "output_type": "stream",
     "text": [
      "7.5\n"
     ]
    }
   ],
   "source": [
    "v=(26,45,'hello',7.5)\n",
    "print(v[3])"
   ]
  },
  {
   "cell_type": "code",
   "execution_count": 1,
   "id": "326ce7ba-2326-4070-abfc-25d8a6bacc62",
   "metadata": {},
   "outputs": [
    {
     "name": "stdout",
     "output_type": "stream",
     "text": [
      "89\n"
     ]
    }
   ],
   "source": [
    "tuple=(9,5,89,4,8)\n",
    "print(max(tuple))"
   ]
  },
  {
   "cell_type": "code",
   "execution_count": 11,
   "id": "c672de41-9bd1-43f3-b2cd-d6e1d0fae70b",
   "metadata": {},
   "outputs": [
    {
     "ename": "TypeError",
     "evalue": "'tuple' object does not support item assignment",
     "output_type": "error",
     "traceback": [
      "\u001b[1;31m---------------------------------------------------------------------------\u001b[0m",
      "\u001b[1;31mTypeError\u001b[0m                                 Traceback (most recent call last)",
      "Cell \u001b[1;32mIn[11], line 2\u001b[0m\n\u001b[0;32m      1\u001b[0m value\u001b[38;5;241m=\u001b[39m(\u001b[38;5;241m26\u001b[39m,\u001b[38;5;241m45\u001b[39m,\u001b[38;5;124m\"\u001b[39m\u001b[38;5;124mhello\u001b[39m\u001b[38;5;124m\"\u001b[39m,\u001b[38;5;241m7.5\u001b[39m)\n\u001b[1;32m----> 2\u001b[0m value[\u001b[38;5;241m2\u001b[39m]\u001b[38;5;241m=\u001b[39m\u001b[38;5;124m\"\u001b[39m\u001b[38;5;124mpython\u001b[39m\u001b[38;5;124m\"\u001b[39m\n\u001b[0;32m      3\u001b[0m \u001b[38;5;28mprint\u001b[39m(value)\n",
      "\u001b[1;31mTypeError\u001b[0m: 'tuple' object does not support item assignment"
     ]
    }
   ],
   "source": [
    "value=(26,45,\"hello\",7.5)\n",
    "value[2]=\"python\"\n",
    "print(value)"
   ]
  },
  {
   "cell_type": "code",
   "execution_count": 9,
   "id": "82564a20-298f-4caa-b736-ac3cd659d87f",
   "metadata": {},
   "outputs": [
    {
     "data": {
      "text/plain": [
       "tuple"
      ]
     },
     "execution_count": 9,
     "metadata": {},
     "output_type": "execute_result"
    }
   ],
   "source": [
    "value=(\"a\",)\n",
    "type(value)"
   ]
  },
  {
   "cell_type": "code",
   "execution_count": 33,
   "id": "ef4ab59f-f299-41f8-8d58-b661ceec8662",
   "metadata": {},
   "outputs": [
    {
     "data": {
      "text/plain": [
       "(26, 45, 'hello', 7.5, 5, 8, 1, 99)"
      ]
     },
     "execution_count": 33,
     "metadata": {},
     "output_type": "execute_result"
    }
   ],
   "source": [
    "value2=(5,8,0o1,99)#leading zeros in decimal integer literals are not permitted; use an 0o prefix for octal integers\n",
    "\n",
    "v2=value+value2\n",
    "v2"
   ]
  },
  {
   "cell_type": "code",
   "execution_count": 55,
   "id": "7edab300-d03c-4a62-ae6c-d006983b2927",
   "metadata": {},
   "outputs": [
    {
     "name": "stdin",
     "output_type": "stream",
     "text": [
      " 3\n",
      " hey\n"
     ]
    },
    {
     "name": "stdout",
     "output_type": "stream",
     "text": [
      "('hey',)\n"
     ]
    },
    {
     "name": "stdin",
     "output_type": "stream",
     "text": [
      " hello\n"
     ]
    },
    {
     "name": "stdout",
     "output_type": "stream",
     "text": [
      "('hey', 'hello')\n"
     ]
    },
    {
     "name": "stdin",
     "output_type": "stream",
     "text": [
      " 6\n"
     ]
    },
    {
     "name": "stdout",
     "output_type": "stream",
     "text": [
      "('hey', 'hello', '6')\n"
     ]
    }
   ],
   "source": [
    "n=int(input())\n",
    "tuple=()\n",
    "for i in range(n):\n",
    "    t=input()\n",
    "    tuple+=(t,)\n",
    "    print(tuple)"
   ]
  },
  {
   "cell_type": "code",
   "execution_count": 6,
   "id": "3c435755-e9f1-4f94-913c-a25b604aa5cf",
   "metadata": {},
   "outputs": [
    {
     "name": "stdin",
     "output_type": "stream",
     "text": [
      " 3\n",
      " 1\n",
      " 2\n",
      " 3\n"
     ]
    },
    {
     "name": "stdout",
     "output_type": "stream",
     "text": [
      "(1, 2, 3)\n"
     ]
    }
   ],
   "source": [
    "t1=()\n",
    "n=int(input())\n",
    "list=[]\n",
    "for i in range(n):\n",
    "    #t=int(input())\n",
    "    list.append(int(input()))\n",
    "    # t1=tuple(list)\n",
    "\n",
    "t1=tuple(list)\n",
    "print(t1)"
   ]
  },
  {
   "cell_type": "code",
   "execution_count": 12,
   "id": "0eeb72c0-eac2-4463-8852-44f6b3c8b8c2",
   "metadata": {},
   "outputs": [
    {
     "name": "stdout",
     "output_type": "stream",
     "text": [
      "45\n",
      "\n"
     ]
    }
   ],
   "source": [
    "value=(5,8,5,9,45,90,7)\n",
    "for i in value:\n",
    "    if i==45:\n",
    "        print(\"45\")\n",
    "print()"
   ]
  },
  {
   "cell_type": "code",
   "execution_count": 14,
   "id": "21c2a4da-d070-42ee-82f7-a429e6d19968",
   "metadata": {},
   "outputs": [
    {
     "name": "stdout",
     "output_type": "stream",
     "text": [
      "one two three\n"
     ]
    }
   ],
   "source": [
    "num=(\"one\",\"two\",\"three\")\n",
    "(a,b,c)=num\n",
    "print(a,b,c)"
   ]
  },
  {
   "cell_type": "code",
   "execution_count": 16,
   "id": "a2c01773-9dbd-472a-87d5-985dbed0619b",
   "metadata": {},
   "outputs": [
    {
     "name": "stdout",
     "output_type": "stream",
     "text": [
      "one two ['three', 'four']\n"
     ]
    }
   ],
   "source": [
    "num=(\"one\",\"two\",\"three\",\"four\")\n",
    "(a,b,*c)=num\n",
    "print(a,b,c)"
   ]
  },
  {
   "cell_type": "code",
   "execution_count": 20,
   "id": "b3590f8f-6df3-4145-89e0-6e1c4a889637",
   "metadata": {},
   "outputs": [
    {
     "name": "stdout",
     "output_type": "stream",
     "text": [
      "one ['two', 'three'] four\n"
     ]
    }
   ],
   "source": [
    "num=(\"one\",\"two\",\"three\",\"four\")\n",
    "(a,*b,c)=num\n",
    "print(a,b,c)"
   ]
  },
  {
   "cell_type": "code",
   "execution_count": 28,
   "id": "272ab7ae-fd13-4822-8edf-c664a282265e",
   "metadata": {},
   "outputs": [
    {
     "name": "stdin",
     "output_type": "stream",
     "text": [
      " 4\n",
      " 3 7 5 2\n"
     ]
    },
    {
     "name": "stdout",
     "output_type": "stream",
     "text": [
      "(3, 7, 5, 2)\n"
     ]
    }
   ],
   "source": [
    "a=int(input())\n",
    "t1=tuple(map(int,input().split()))\n",
    "print(t1)"
   ]
  },
  {
   "cell_type": "code",
   "execution_count": 30,
   "id": "d7fb304c-aff5-48d9-a5ac-8e6c5bd8965a",
   "metadata": {},
   "outputs": [
    {
     "name": "stdout",
     "output_type": "stream",
     "text": [
      "{'a', 2, 5, 9.4}\n"
     ]
    }
   ],
   "source": [
    "v={2,\"python\",'a',5,9.4}\n",
    "v.remove(\"python\")\n",
    "print(v)"
   ]
  },
  {
   "cell_type": "code",
   "execution_count": 32,
   "id": "7a471ba7-b76f-498d-9be5-57b6af1b0cd7",
   "metadata": {},
   "outputs": [
    {
     "name": "stdout",
     "output_type": "stream",
     "text": [
      "{'a', 2, 5, 9.4}\n"
     ]
    }
   ],
   "source": [
    "v={2,\"python\",'a',5,9.4}\n",
    "v.discard(\"python\")\n",
    "print(v)"
   ]
  },
  {
   "cell_type": "code",
   "execution_count": 1,
   "id": "52e6ea6b-a0a6-4cee-bf3a-82eb0216caf4",
   "metadata": {},
   "outputs": [
    {
     "data": {
      "text/plain": [
       "dict"
      ]
     },
     "execution_count": 1,
     "metadata": {},
     "output_type": "execute_result"
    }
   ],
   "source": [
    "v={}\n",
    "type(v)"
   ]
  },
  {
   "cell_type": "code",
   "execution_count": 3,
   "id": "10909a7d-44da-424b-8ea4-b7395d382e04",
   "metadata": {},
   "outputs": [
    {
     "data": {
      "text/plain": [
       "set"
      ]
     },
     "execution_count": 3,
     "metadata": {},
     "output_type": "execute_result"
    }
   ],
   "source": [
    "v=set()\n",
    "type(v)"
   ]
  },
  {
   "cell_type": "code",
   "execution_count": 19,
   "id": "083b2344-1c32-4651-8352-c7f713955cae",
   "metadata": {},
   "outputs": [
    {
     "name": "stdout",
     "output_type": "stream",
     "text": [
      "{1, 2, 3, 4, 5, 6, 68, 9}\n"
     ]
    }
   ],
   "source": [
    "v={1,3,5,2,1,6,4,68,9}\n",
    "type(v)\n",
    "print(v)"
   ]
  },
  {
   "cell_type": "code",
   "execution_count": 21,
   "id": "7088e1b1-4374-42ff-89b2-fbea92a43511",
   "metadata": {},
   "outputs": [
    {
     "name": "stdout",
     "output_type": "stream",
     "text": [
      "set()\n"
     ]
    }
   ],
   "source": [
    "set1=set()\n",
    "print(set1)"
   ]
  },
  {
   "cell_type": "code",
   "execution_count": 23,
   "id": "94a8aaf9-da00-46ad-aa3b-dcb2d51f0ce6",
   "metadata": {},
   "outputs": [
    {
     "data": {
      "text/plain": [
       "{2, 5, 9.0, 'a', 'python'}"
      ]
     },
     "execution_count": 23,
     "metadata": {},
     "output_type": "execute_result"
    }
   ],
   "source": [
    "v={2,\"python\",\"a\",5,9.0}\n",
    "v"
   ]
  },
  {
   "cell_type": "code",
   "execution_count": 36,
   "id": "e6d1261e-a0ff-43e7-ad88-7310bf5b67f9",
   "metadata": {},
   "outputs": [
    {
     "ename": "ZeroDivisionError",
     "evalue": "division by zero",
     "output_type": "error",
     "traceback": [
      "\u001b[1;31m---------------------------------------------------------------------------\u001b[0m",
      "\u001b[1;31mZeroDivisionError\u001b[0m                         Traceback (most recent call last)",
      "Cell \u001b[1;32mIn[36], line 1\u001b[0m\n\u001b[1;32m----> 1\u001b[0m a\u001b[38;5;241m=\u001b[39m\u001b[38;5;241m9\u001b[39m\u001b[38;5;241m/\u001b[39m\u001b[38;5;241m0\u001b[39m\n\u001b[0;32m      2\u001b[0m a\n",
      "\u001b[1;31mZeroDivisionError\u001b[0m: division by zero"
     ]
    }
   ],
   "source": [
    "a=9/0\n",
    "a"
   ]
  },
  {
   "cell_type": "markdown",
   "id": "06dd4961-485a-4c26-8210-cab5bdf45ddc",
   "metadata": {
    "jp-MarkdownHeadingCollapsed": true
   },
   "source": [
    "v[0]"
   ]
  },
  {
   "cell_type": "code",
   "execution_count": 41,
   "id": "fe33ece8-74c7-43d2-8a92-dcb4280ef654",
   "metadata": {},
   "outputs": [
    {
     "ename": "TypeError",
     "evalue": "'set' object is not subscriptable",
     "output_type": "error",
     "traceback": [
      "\u001b[1;31m---------------------------------------------------------------------------\u001b[0m",
      "\u001b[1;31mTypeError\u001b[0m                                 Traceback (most recent call last)",
      "Cell \u001b[1;32mIn[41], line 1\u001b[0m\n\u001b[1;32m----> 1\u001b[0m v[\u001b[38;5;241m0\u001b[39m]\n",
      "\u001b[1;31mTypeError\u001b[0m: 'set' object is not subscriptable"
     ]
    }
   ],
   "source": [
    "v[0]"
   ]
  },
  {
   "cell_type": "code",
   "execution_count": 63,
   "id": "a32027a5-65cd-41e8-ac8d-8b589a59ecb5",
   "metadata": {},
   "outputs": [
    {
     "ename": "TypeError",
     "evalue": "unhashable type: 'set'",
     "output_type": "error",
     "traceback": [
      "\u001b[1;31m---------------------------------------------------------------------------\u001b[0m",
      "\u001b[1;31mTypeError\u001b[0m                                 Traceback (most recent call last)",
      "Cell \u001b[1;32mIn[63], line 2\u001b[0m\n\u001b[0;32m      1\u001b[0m v1\u001b[38;5;241m=\u001b[39m{\u001b[38;5;124m\"\u001b[39m\u001b[38;5;124mhello\u001b[39m\u001b[38;5;124m\"\u001b[39m}\n\u001b[1;32m----> 2\u001b[0m v\u001b[38;5;241m+\u001b[39m\u001b[38;5;241m=\u001b[39m{v1}\n\u001b[0;32m      3\u001b[0m v\n",
      "\u001b[1;31mTypeError\u001b[0m: unhashable type: 'set'"
     ]
    }
   ],
   "source": [
    "v1={\"hello\"}\n",
    "v+={v1}\n",
    "v"
   ]
  },
  {
   "cell_type": "code",
   "execution_count": 71,
   "id": "f5c6fcff-5e29-4403-8a72-466a57634aec",
   "metadata": {},
   "outputs": [
    {
     "data": {
      "text/plain": [
       "{2, 5, 9.0, 'a', 'hell', 'hello', 'hey', 'hy', 'python'}"
      ]
     },
     "execution_count": 71,
     "metadata": {},
     "output_type": "execute_result"
    }
   ],
   "source": [
    "v.add(\"hy\")\n",
    "v"
   ]
  },
  {
   "cell_type": "code",
   "execution_count": 73,
   "id": "4e944a08-195e-4d78-bd48-d69b08d3c8dc",
   "metadata": {},
   "outputs": [
    {
     "data": {
      "text/plain": [
       "{2, 5, 9.0, 'a', 'hell', 'hello', 'hey', 'hy', 'python'}"
      ]
     },
     "execution_count": 73,
     "metadata": {},
     "output_type": "execute_result"
    }
   ],
   "source": [
    "v"
   ]
  },
  {
   "cell_type": "code",
   "execution_count": 79,
   "id": "dbd6fe90-2c5e-4446-b21e-b8d1b8334ef8",
   "metadata": {},
   "outputs": [
    {
     "ename": "KeyError",
     "evalue": "'a'",
     "output_type": "error",
     "traceback": [
      "\u001b[1;31m---------------------------------------------------------------------------\u001b[0m",
      "\u001b[1;31mKeyError\u001b[0m                                  Traceback (most recent call last)",
      "Cell \u001b[1;32mIn[79], line 1\u001b[0m\n\u001b[1;32m----> 1\u001b[0m v\u001b[38;5;241m.\u001b[39mremove(\u001b[38;5;124m\"\u001b[39m\u001b[38;5;124ma\u001b[39m\u001b[38;5;124m\"\u001b[39m)\n\u001b[0;32m      2\u001b[0m v\n",
      "\u001b[1;31mKeyError\u001b[0m: 'a'"
     ]
    }
   ],
   "source": [
    "v.remove(\"a\")\n",
    "v"
   ]
  },
  {
   "cell_type": "code",
   "execution_count": 81,
   "id": "eee5ab92-5dfa-4075-8109-52b22a97753b",
   "metadata": {},
   "outputs": [
    {
     "data": {
      "text/plain": [
       "{2, 5, 9.0, 'hell', 'hello', 'hey', 'hy', 'python'}"
      ]
     },
     "execution_count": 81,
     "metadata": {},
     "output_type": "execute_result"
    }
   ],
   "source": [
    "v"
   ]
  },
  {
   "cell_type": "code",
   "execution_count": 83,
   "id": "c64d37a2-e783-44cf-8892-1798955f40f5",
   "metadata": {},
   "outputs": [
    {
     "ename": "KeyError",
     "evalue": "10",
     "output_type": "error",
     "traceback": [
      "\u001b[1;31m---------------------------------------------------------------------------\u001b[0m",
      "\u001b[1;31mKeyError\u001b[0m                                  Traceback (most recent call last)",
      "Cell \u001b[1;32mIn[83], line 1\u001b[0m\n\u001b[1;32m----> 1\u001b[0m v\u001b[38;5;241m.\u001b[39mremove(\u001b[38;5;241m10\u001b[39m)\n",
      "\u001b[1;31mKeyError\u001b[0m: 10"
     ]
    }
   ],
   "source": [
    "v.remove(10)"
   ]
  },
  {
   "cell_type": "code",
   "execution_count": 85,
   "id": "b8666021-561a-4df9-92cd-764828433de9",
   "metadata": {},
   "outputs": [],
   "source": [
    "v.discard(10)"
   ]
  },
  {
   "cell_type": "code",
   "execution_count": 87,
   "id": "f40e9d63-e6dd-4105-a25b-99714d325cba",
   "metadata": {},
   "outputs": [],
   "source": [
    "v.discard(\"hy\")"
   ]
  },
  {
   "cell_type": "code",
   "execution_count": 89,
   "id": "fb387532-d4fd-4aee-ba90-4dce20cb5b1f",
   "metadata": {},
   "outputs": [
    {
     "data": {
      "text/plain": [
       "{2, 5, 9.0, 'hell', 'hello', 'hey', 'python'}"
      ]
     },
     "execution_count": 89,
     "metadata": {},
     "output_type": "execute_result"
    }
   ],
   "source": [
    "v"
   ]
  },
  {
   "cell_type": "code",
   "execution_count": 97,
   "id": "4a0010a8-6a9e-47d6-8748-00df446bb52a",
   "metadata": {},
   "outputs": [
    {
     "ename": "KeyError",
     "evalue": "'hello'",
     "output_type": "error",
     "traceback": [
      "\u001b[1;31m---------------------------------------------------------------------------\u001b[0m",
      "\u001b[1;31mKeyError\u001b[0m                                  Traceback (most recent call last)",
      "Cell \u001b[1;32mIn[97], line 1\u001b[0m\n\u001b[1;32m----> 1\u001b[0m v\u001b[38;5;241m.\u001b[39mremove(\u001b[38;5;124m'\u001b[39m\u001b[38;5;124mhello\u001b[39m\u001b[38;5;124m'\u001b[39m)\n",
      "\u001b[1;31mKeyError\u001b[0m: 'hello'"
     ]
    }
   ],
   "source": [
    "v.remove('hello')\n"
   ]
  },
  {
   "cell_type": "code",
   "execution_count": 99,
   "id": "bad5ea54-6f21-42e1-8bb8-8e28d5267fbb",
   "metadata": {},
   "outputs": [
    {
     "ename": "KeyError",
     "evalue": "'hello'",
     "output_type": "error",
     "traceback": [
      "\u001b[1;31m---------------------------------------------------------------------------\u001b[0m",
      "\u001b[1;31mKeyError\u001b[0m                                  Traceback (most recent call last)",
      "Cell \u001b[1;32mIn[99], line 1\u001b[0m\n\u001b[1;32m----> 1\u001b[0m v\u001b[38;5;241m.\u001b[39mremove(\u001b[38;5;124m'\u001b[39m\u001b[38;5;124mhello\u001b[39m\u001b[38;5;124m'\u001b[39m)\n\u001b[0;32m      2\u001b[0m v\n",
      "\u001b[1;31mKeyError\u001b[0m: 'hello'"
     ]
    }
   ],
   "source": [
    "v.remove('hello')\n",
    "v"
   ]
  },
  {
   "cell_type": "code",
   "execution_count": 1,
   "id": "f497eff2-b266-49ee-b492-2cbe06a37641",
   "metadata": {},
   "outputs": [
    {
     "ename": "NameError",
     "evalue": "name 'v' is not defined",
     "output_type": "error",
     "traceback": [
      "\u001b[1;31m---------------------------------------------------------------------------\u001b[0m",
      "\u001b[1;31mNameError\u001b[0m                                 Traceback (most recent call last)",
      "Cell \u001b[1;32mIn[1], line 1\u001b[0m\n\u001b[1;32m----> 1\u001b[0m v\n",
      "\u001b[1;31mNameError\u001b[0m: name 'v' is not defined"
     ]
    }
   ],
   "source": [
    "v"
   ]
  },
  {
   "cell_type": "code",
   "execution_count": 31,
   "id": "1af6250a-da00-4d78-b3fb-6483f61978c8",
   "metadata": {},
   "outputs": [
    {
     "name": "stdin",
     "output_type": "stream",
     "text": [
      " python\n"
     ]
    },
    {
     "name": "stdout",
     "output_type": "stream",
     "text": [
      "YASSSS\n"
     ]
    }
   ],
   "source": [
    "v=(2,\"python\",\"a\",5,9.0)\n",
    "n=input()\n",
    "for i in v:\n",
    "    if n==str(i):\n",
    "        print(\"YASSSS\")\n",
    "        break\n",
    "else:\n",
    "    print(\"nope\")\n",
    "    \n",
    " "
   ]
  },
  {
   "cell_type": "code",
   "execution_count": 35,
   "id": "47492050-b940-4a22-9f8a-871f5206c3c5",
   "metadata": {},
   "outputs": [
    {
     "name": "stdin",
     "output_type": "stream",
     "text": [
      " 2\n"
     ]
    },
    {
     "name": "stdout",
     "output_type": "stream",
     "text": [
      "False\n"
     ]
    }
   ],
   "source": [
    "v={2,\"python\",\"a\",5,9.0}\n",
    "x=input()\n",
    "print(x in v)"
   ]
  },
  {
   "cell_type": "code",
   "execution_count": 51,
   "id": "2d0f0977-2fa7-4d52-8a9a-b49376bbaa6f",
   "metadata": {},
   "outputs": [
    {
     "name": "stdout",
     "output_type": "stream",
     "text": [
      "{'jun', 'mar', 'jan', 'may', 'apr', 'july', 'feb'}\n",
      "{'sep', 'mar', 'oct', 'aug', 'dec', 'july', 'nov'}\n"
     ]
    }
   ],
   "source": [
    "month1={\"jan\",\"feb\",\"mar\",\"apr\",\"may\",\"jun\",\"jan\",\"july\"}\n",
    "month2={\"july\",\"aug\",\"sep\",\"oct\",\"nov\",\"dec\",\"aug\",\"sep\",\"mar\"}\n",
    "print(month1)\n",
    "print(month2)"
   ]
  },
  {
   "cell_type": "markdown",
   "id": "61fa0cb4-b467-4d8c-b4fb-c6ffabfe92af",
   "metadata": {},
   "source": []
  },
  {
   "cell_type": "code",
   "execution_count": 53,
   "id": "6d543efa-3bd3-4810-8152-03b103b90750",
   "metadata": {},
   "outputs": [
    {
     "data": {
      "text/plain": [
       "{'apr',\n",
       " 'aug',\n",
       " 'dec',\n",
       " 'feb',\n",
       " 'jan',\n",
       " 'july',\n",
       " 'jun',\n",
       " 'mar',\n",
       " 'may',\n",
       " 'nov',\n",
       " 'oct',\n",
       " 'sep'}"
      ]
     },
     "execution_count": 53,
     "metadata": {},
     "output_type": "execute_result"
    }
   ],
   "source": [
    "month1|month2"
   ]
  },
  {
   "cell_type": "code",
   "execution_count": 55,
   "id": "22f0c19f-e0c1-4574-9cdf-415c41a2e641",
   "metadata": {},
   "outputs": [
    {
     "data": {
      "text/plain": [
       "{'aug', 'dec', 'july', 'mar', 'nov', 'oct', 'sep'}"
      ]
     },
     "execution_count": 55,
     "metadata": {},
     "output_type": "execute_result"
    }
   ],
   "source": [
    "month2&month2"
   ]
  },
  {
   "cell_type": "code",
   "execution_count": 1,
   "id": "7d1f0bdf-e539-44c9-a2ab-92dba024e752",
   "metadata": {},
   "outputs": [
    {
     "name": "stdout",
     "output_type": "stream",
     "text": [
      "{'b': 6, 'd': 10}\n"
     ]
    }
   ],
   "source": [
    "original={'a':1,'b':6,'c':3,'d':10}\n",
    "filtered={k:v for k,v in original.items() if v>=5}\n",
    "print(filtered)"
   ]
  },
  {
   "cell_type": "code",
   "execution_count": 3,
   "id": "b83e0a9f-1915-4250-bf21-74499cc61ba0",
   "metadata": {},
   "outputs": [
    {
     "name": "stdout",
     "output_type": "stream",
     "text": [
      "{1: {'square': 1, 'cube': 1}, 2: {'square': 4, 'cube': 8}, 3: {'square': 9, 'cube': 27}, 4: {'square': 16, 'cube': 64}}\n"
     ]
    }
   ],
   "source": [
    "number=[1,2,3,4]\n",
    "nested_dictionary={x:{'square':x**2,'cube':x**3}for x in number}\n",
    "print(nested_dictionary)\n"
   ]
  },
  {
   "cell_type": "code",
   "execution_count": 11,
   "id": "6c4fd718-40d5-4a9c-bd19-1f25f13c0117",
   "metadata": {},
   "outputs": [
    {
     "name": "stdout",
     "output_type": "stream",
     "text": [
      "Name:  AUDI Id:  2000000\n"
     ]
    }
   ],
   "source": [
    "class Car:\n",
    "    'Common_car'\n",
    "    car=0\n",
    "    def __init__(self,name,id):\n",
    "        self.name=name\n",
    "        self.id=id\n",
    "        Car.car+=1\n",
    "    def printCardata(self):\n",
    "        print(\"Name: \",self.name,\"Id: \",self.id)\n",
    "c=Car(\"AUDI\",2000000)\n",
    "c.printCardata()"
   ]
  },
  {
   "cell_type": "code",
   "execution_count": 5,
   "id": "9c27a4fe-9194-469b-a9b5-e226137be0ea",
   "metadata": {},
   "outputs": [
    {
     "name": "stdout",
     "output_type": "stream",
     "text": [
      "XXXXX 26 30000\n"
     ]
    }
   ],
   "source": [
    "class Employee:\n",
    "    def __init__(self,n,a,s):\n",
    "        self.name=n\n",
    "        self.age=a\n",
    "        self.salary=s\n",
    "    def display_data(self):\n",
    "        print(self.name,self.age,self.salary)\n",
    "\n",
    "el=Employee(\"XXXXX\",26,30000)\n",
    "el.display_data()\n",
    "        "
   ]
  },
  {
   "cell_type": "code",
   "execution_count": 31,
   "id": "c5b17b30-f1df-4a65-b40f-3590a227596e",
   "metadata": {},
   "outputs": [
    {
     "name": "stdin",
     "output_type": "stream",
     "text": [
      " 4\n"
     ]
    },
    {
     "name": "stdout",
     "output_type": "stream",
     "text": [
      "positive\n"
     ]
    }
   ],
   "source": [
    "class Numbers:\n",
    "    def __init__(self,n):\n",
    "        self.num=n\n",
    "    def check_data(self):\n",
    "        if self.num>=0:\n",
    "            print(\"positive\")\n",
    "        else:\n",
    "            print(\"Negative\")   \n",
    "n1=Numbers(int(input()))\n",
    "n1.check_data()\n",
    "        \n"
   ]
  },
  {
   "cell_type": "code",
   "execution_count": 33,
   "id": "d7afa129-d5f1-4c36-b2bf-a7d8be51cbde",
   "metadata": {},
   "outputs": [
    {
     "name": "stdout",
     "output_type": "stream",
     "text": [
      "Total Cars:  3\n",
      "Name:  AUDI Id:  2000000\n",
      "Name:  BENZ Id:  3000000\n",
      "Name:  BMW Id:  10000000\n"
     ]
    }
   ],
   "source": [
    "class Car:\n",
    "    'Common_car'\n",
    "    car=0\n",
    "    def __init__(self,name,id):\n",
    "        self.name=name\n",
    "        self.id=id\n",
    "        Car.car+=1\n",
    "    def printCardata(self):\n",
    "        print(\"Name: \",self.name,\"Id: \",self.id)\n",
    "c=Car(\"AUDI\",2000000)\n",
    "c1=Car(\"BENZ\",3000000)\n",
    "c2=Car(\"BMW\",10000000)\n",
    "print(\"Total Cars: \",Car.car)\n",
    "c.printCardata()\n",
    "c1.printCardata()\n",
    "c2.printCardata()\n"
   ]
  },
  {
   "cell_type": "code",
   "execution_count": 35,
   "id": "ca5ad5e4-a5f2-4022-8cd0-d7898c83bf8e",
   "metadata": {},
   "outputs": [
    {
     "name": "stdout",
     "output_type": "stream",
     "text": [
      "Car\n",
      "Bike\n"
     ]
    }
   ],
   "source": [
    "class test:\n",
    "    def __init__(self):\n",
    "        self.variable='Car'\n",
    "        self.Change(self.variable)\n",
    "    def Change(self,var):\n",
    "        self.var='Bike'\n",
    "obj=test()\n",
    "print(obj.variable)\n",
    "print(obj.var);\n"
   ]
  },
  {
   "cell_type": "code",
   "execution_count": 3,
   "id": "2a40dea5-e760-4bd0-bd7e-d02dd7085c35",
   "metadata": {},
   "outputs": [
    {
     "name": "stdout",
     "output_type": "stream",
     "text": [
      "Engine is powerful\n",
      "100km\n"
     ]
    }
   ],
   "source": [
    "class car:\n",
    "    def speed(self):\n",
    "        print(\"100km\")\n",
    "class Audi(car):\n",
    "    def engine(self):\n",
    "        print(\"Engine is powerful\")\n",
    "c=Audi()\n",
    "c.engine()\n",
    "c.speed()\n"
   ]
  },
  {
   "cell_type": "code",
   "execution_count": 15,
   "id": "088b4194-c955-45d8-a43a-a73a141c9501",
   "metadata": {},
   "outputs": [
    {
     "name": "stdout",
     "output_type": "stream",
     "text": [
      "Bark\n",
      "Meow\n",
      "Some generic sound\n"
     ]
    }
   ],
   "source": [
    "class Animal:\n",
    "    def sound(self):\n",
    "        print(\"Some generic sound\")\n",
    "class Dog(Animal):\n",
    "    def sound(self):\n",
    "        print(\"Bark\")\n",
    "class Cat(Animal):\n",
    "    def sound(self):\n",
    "        print(\"Meow\")\n",
    "dog=Dog()\n",
    "cat=Cat()\n",
    "animal=Animal()\n",
    "dog.sound()\n",
    "cat.sound()\n",
    "animal.sound()"
   ]
  },
  {
   "cell_type": "code",
   "execution_count": null,
   "id": "ac2bdeac-b8ce-406d-9d2f-6def70e0dae4",
   "metadata": {},
   "outputs": [],
   "source": []
  }
 ],
 "metadata": {
  "kernelspec": {
   "display_name": "Python 3 (ipykernel)",
   "language": "python",
   "name": "python3"
  },
  "language_info": {
   "codemirror_mode": {
    "name": "ipython",
    "version": 3
   },
   "file_extension": ".py",
   "mimetype": "text/x-python",
   "name": "python",
   "nbconvert_exporter": "python",
   "pygments_lexer": "ipython3",
   "version": "3.12.4"
  }
 },
 "nbformat": 4,
 "nbformat_minor": 5
}
